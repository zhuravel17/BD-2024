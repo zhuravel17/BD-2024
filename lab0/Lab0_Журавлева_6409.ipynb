{
  "cells": [
    {
      "cell_type": "markdown",
      "metadata": {
        "id": "82OvPKEiEqjc"
      },
      "source": [
        "# Введение в MapReduce модель на Python\n"
      ]
    },
    {
      "cell_type": "code",
      "execution_count": 33,
      "metadata": {
        "id": "JQ2cvXLjICmI"
      },
      "outputs": [],
      "source": [
        "from typing import NamedTuple # requires python 3.6+\n",
        "from typing import Iterator"
      ]
    },
    {
      "cell_type": "code",
      "execution_count": 34,
      "metadata": {
        "id": "yjPHumVwEyEg"
      },
      "outputs": [],
      "source": [
        "def MAP(_, row:NamedTuple):\n",
        "  if (row.gender == 'female'):\n",
        "    yield (row.age, row)\n",
        "    \n",
        "def REDUCE(age:str, rows:Iterator[NamedTuple]):\n",
        "  sum = 0\n",
        "  count = 0\n",
        "  for row in rows:\n",
        "    sum += row.social_contacts\n",
        "    count += 1\n",
        "  if (count > 0):\n",
        "    yield (age, sum/count)\n",
        "  else:\n",
        "    yield (age, 0)"
      ]
    },
    {
      "cell_type": "markdown",
      "metadata": {
        "id": "vBKMgpG_ilaZ"
      },
      "source": [
        "Модель элемента данных"
      ]
    },
    {
      "cell_type": "code",
      "execution_count": 35,
      "metadata": {
        "id": "Rv-XIjhTJPx3"
      },
      "outputs": [],
      "source": [
        "class User(NamedTuple):\n",
        "  id: int\n",
        "  age: str\n",
        "  social_contacts: int\n",
        "  gender: str"
      ]
    },
    {
      "cell_type": "code",
      "execution_count": 36,
      "metadata": {
        "id": "5KV0Ze2vQgu5"
      },
      "outputs": [],
      "source": [
        "input_collection = [\n",
        "    User(id=0, age=55, gender='male', social_contacts=20),\n",
        "    User(id=1, age=25, gender='female', social_contacts=240),\n",
        "    User(id=2, age=25, gender='female', social_contacts=500),\n",
        "    User(id=3, age=33, gender='female', social_contacts=800)\n",
        "]"
      ]
    },
    {
      "cell_type": "markdown",
      "metadata": {
        "id": "YFeqzyZxZIFZ"
      },
      "source": [
        "Функция RECORDREADER моделирует чтение элементов с диска или по сети."
      ]
    },
    {
      "cell_type": "code",
      "execution_count": 37,
      "metadata": {
        "id": "S5HR4E_GQoMJ"
      },
      "outputs": [],
      "source": [
        "def RECORDREADER():\n",
        "  return [(u.id, u) for u in input_collection]"
      ]
    },
    {
      "cell_type": "code",
      "execution_count": 38,
      "metadata": {
        "colab": {
          "base_uri": "https://localhost:8080/",
          "height": 85
        },
        "id": "NeEoWla-ROUy",
        "outputId": "94ca6e0e-4644-4282-acbf-1759d7ba2918"
      },
      "outputs": [
        {
          "data": {
            "text/plain": [
              "[(0, User(id=0, age=55, social_contacts=20, gender='male')),\n",
              " (1, User(id=1, age=25, social_contacts=240, gender='female')),\n",
              " (2, User(id=2, age=25, social_contacts=500, gender='female')),\n",
              " (3, User(id=3, age=33, social_contacts=800, gender='female'))]"
            ]
          },
          "execution_count": 38,
          "metadata": {},
          "output_type": "execute_result"
        }
      ],
      "source": [
        "list(RECORDREADER())"
      ]
    },
    {
      "cell_type": "code",
      "execution_count": 39,
      "metadata": {
        "id": "YB8orgPSZs8M"
      },
      "outputs": [],
      "source": [
        "def flatten(nested_iterable):\n",
        "  for iterable in nested_iterable:\n",
        "    for element in iterable:\n",
        "      yield element"
      ]
    },
    {
      "cell_type": "code",
      "execution_count": 40,
      "metadata": {
        "colab": {
          "base_uri": "https://localhost:8080/",
          "height": 68
        },
        "id": "74oyvDLaRmd5",
        "outputId": "c6147702-7153-47c7-a574-d5fe6abe29a8"
      },
      "outputs": [
        {
          "data": {
            "text/plain": [
              "[(25, User(id=1, age=25, social_contacts=240, gender='female')),\n",
              " (25, User(id=2, age=25, social_contacts=500, gender='female')),\n",
              " (33, User(id=3, age=33, social_contacts=800, gender='female'))]"
            ]
          },
          "execution_count": 40,
          "metadata": {},
          "output_type": "execute_result"
        }
      ],
      "source": [
        "map_output = flatten(map(lambda x: MAP(*x), RECORDREADER()))\n",
        "map_output = list(map_output) # materialize\n",
        "map_output"
      ]
    },
    {
      "cell_type": "code",
      "execution_count": 41,
      "metadata": {
        "id": "8ncYDJ3-VzDn"
      },
      "outputs": [],
      "source": [
        "def groupbykey(iterable):\n",
        "  t = {}\n",
        "  for (k2, v2) in iterable:\n",
        "    t[k2] = t.get(k2, []) + [v2]\n",
        "  return t.items()"
      ]
    },
    {
      "cell_type": "code",
      "execution_count": 42,
      "metadata": {
        "colab": {
          "base_uri": "https://localhost:8080/",
          "height": 85
        },
        "id": "cKzY_6COWOA2",
        "outputId": "e6791b12-e409-47e9-bcd4-e9f8ca8611bd"
      },
      "outputs": [
        {
          "data": {
            "text/plain": [
              "[(25,\n",
              "  [User(id=1, age=25, social_contacts=240, gender='female'),\n",
              "   User(id=2, age=25, social_contacts=500, gender='female')]),\n",
              " (33, [User(id=3, age=33, social_contacts=800, gender='female')])]"
            ]
          },
          "execution_count": 42,
          "metadata": {},
          "output_type": "execute_result"
        }
      ],
      "source": [
        "shuffle_output = groupbykey(map_output)\n",
        "shuffle_output = list(shuffle_output)\n",
        "shuffle_output"
      ]
    },
    {
      "cell_type": "code",
      "execution_count": 43,
      "metadata": {
        "colab": {
          "base_uri": "https://localhost:8080/",
          "height": 34
        },
        "id": "NlA7lkDDYL0t",
        "outputId": "6b25d03f-5c92-4f3b-f500-6d70acd598b7"
      },
      "outputs": [
        {
          "data": {
            "text/plain": [
              "[(25, 370.0), (33, 800.0)]"
            ]
          },
          "execution_count": 43,
          "metadata": {},
          "output_type": "execute_result"
        }
      ],
      "source": [
        "reduce_output = flatten(map(lambda x: REDUCE(*x), shuffle_output))\n",
        "reduce_output = list(reduce_output)\n",
        "reduce_output"
      ]
    },
    {
      "cell_type": "markdown",
      "metadata": {
        "id": "xf6qhHEtd6bI"
      },
      "source": [
        "Все действия одним конвейером!"
      ]
    },
    {
      "cell_type": "code",
      "execution_count": 44,
      "metadata": {
        "colab": {
          "base_uri": "https://localhost:8080/",
          "height": 34
        },
        "id": "dZaQGYxCdpw5",
        "outputId": "3f5c6425-e5c5-49d2-b2cd-ce58a9acc33c"
      },
      "outputs": [
        {
          "data": {
            "text/plain": [
              "[(25, 370.0), (33, 800.0)]"
            ]
          },
          "execution_count": 44,
          "metadata": {},
          "output_type": "execute_result"
        }
      ],
      "source": [
        "list(flatten(map(lambda x: REDUCE(*x), groupbykey(flatten(map(lambda x: MAP(*x), RECORDREADER()))))))"
      ]
    },
    {
      "cell_type": "markdown",
      "metadata": {
        "id": "Vq3EWRIpwSiJ"
      },
      "source": [
        "# **MapReduce**\n",
        "Выделим общую для всех пользователей часть системы в отдельную функцию высшего порядка. Это наиболее простая модель MapReduce, без учёта распределённого хранения данных. \n",
        "\n",
        "Пользователь для решения своей задачи реализует RECORDREADER, MAP, REDUCE."
      ]
    },
    {
      "cell_type": "code",
      "execution_count": 45,
      "metadata": {
        "id": "V1PZeQMwwVjc"
      },
      "outputs": [],
      "source": [
        "def flatten(nested_iterable):\n",
        "  for iterable in nested_iterable:\n",
        "    for element in iterable:\n",
        "      yield element\n",
        "\n",
        "def groupbykey(iterable):\n",
        "  t = {}\n",
        "  for (k2, v2) in iterable:\n",
        "    t[k2] = t.get(k2, []) + [v2]\n",
        "  return t.items()\n",
        "\n",
        "def MapReduce(RECORDREADER, MAP, REDUCE):\n",
        "  return flatten(map(lambda x: REDUCE(*x), groupbykey(flatten(map(lambda x: MAP(*x), RECORDREADER())))))"
      ]
    },
    {
      "cell_type": "markdown",
      "metadata": {
        "id": "iFIVrimep678"
      },
      "source": [
        "## Спецификация MapReduce\n",
        "\n",
        "\n",
        "\n",
        "```\n",
        "f (k1, v1) -> (k2,v2)*\n",
        "g (k2, v2*) -> (k3,v3)*\n",
        " \n",
        "mapreduce ((k1,v1)*) -> (k3,v3)*\n",
        "groupby ((k2,v2)*) -> (k2,v2*)*\n",
        "flatten (e2**) -> e2*\n",
        " \n",
        "mapreduce .map(f).flatten.groupby(k2).map(g).flatten\n",
        "```\n",
        "\n",
        "\n"
      ]
    },
    {
      "cell_type": "markdown",
      "metadata": {
        "id": "QtTFyqke3KGe"
      },
      "source": [
        "# Примеры"
      ]
    },
    {
      "cell_type": "markdown",
      "metadata": {
        "id": "BNhh5763w5Vn"
      },
      "source": [
        "## SQL "
      ]
    },
    {
      "cell_type": "code",
      "execution_count": 46,
      "metadata": {
        "colab": {
          "base_uri": "https://localhost:8080/",
          "height": 34
        },
        "id": "QkyurnvGxBGk",
        "outputId": "84761282-d2ba-435a-e8d7-a85150730e10"
      },
      "outputs": [
        {
          "data": {
            "text/plain": [
              "[(25, 370.0), (33, 800.0)]"
            ]
          },
          "execution_count": 46,
          "metadata": {},
          "output_type": "execute_result"
        }
      ],
      "source": [
        "from typing import NamedTuple # requires python 3.6+\n",
        "from typing import Iterator\n",
        "\n",
        "class User(NamedTuple):\n",
        "  id: int\n",
        "  age: str\n",
        "  social_contacts: int\n",
        "  gender: str\n",
        "    \n",
        "input_collection = [\n",
        "    User(id=0, age=55, gender='male', social_contacts=20),\n",
        "    User(id=1, age=25, gender='female', social_contacts=240),\n",
        "    User(id=2, age=25, gender='female', social_contacts=500),\n",
        "    User(id=3, age=33, gender='female', social_contacts=800)\n",
        "]\n",
        "\n",
        "def MAP(_, row:NamedTuple):\n",
        "  if (row.gender == 'female'):\n",
        "    yield (row.age, row)\n",
        "    \n",
        "def REDUCE(age:str, rows:Iterator[NamedTuple]):\n",
        "  sum = 0\n",
        "  count = 0\n",
        "  for row in rows:\n",
        "    sum += row.social_contacts\n",
        "    count += 1\n",
        "  if (count > 0):\n",
        "    yield (age, sum/count)\n",
        "  else:\n",
        "    yield (age, 0)\n",
        " \n",
        "def RECORDREADER():\n",
        "  return [(u.id, u) for u in input_collection]\n",
        "\n",
        "output = MapReduce(RECORDREADER, MAP, REDUCE)\n",
        "output = list(output)\n",
        "output"
      ]
    },
    {
      "cell_type": "markdown",
      "metadata": {
        "id": "kNKYIeerx0nY"
      },
      "source": [
        "## Matrix-Vector multiplication "
      ]
    },
    {
      "cell_type": "code",
      "execution_count": 47,
      "metadata": {
        "colab": {
          "base_uri": "https://localhost:8080/",
          "height": 102
        },
        "id": "rwcntRcCyi1V",
        "outputId": "606737ab-6b55-455c-931f-4fc45155f8a9"
      },
      "outputs": [
        {
          "data": {
            "text/plain": [
              "[(0, 2.9874200657100816),\n",
              " (1, 2.9874200657100816),\n",
              " (2, 2.9874200657100816),\n",
              " (3, 2.9874200657100816),\n",
              " (4, 2.9874200657100816)]"
            ]
          },
          "execution_count": 47,
          "metadata": {},
          "output_type": "execute_result"
        }
      ],
      "source": [
        "from typing import Iterator\n",
        "import numpy as np\n",
        "\n",
        "mat = np.ones((5,4))\n",
        "vec = np.random.rand(4) # in-memory vector in all map tasks\n",
        "\n",
        "def MAP(coordinates:(int, int), value:int):\n",
        "  i, j = coordinates\n",
        "  yield (i, value*vec[j])\n",
        " \n",
        "def REDUCE(i:int, products:Iterator[NamedTuple]):\n",
        "  sum = 0\n",
        "  for p in products:\n",
        "    sum += p\n",
        "  yield (i, sum)\n",
        "\n",
        "def RECORDREADER():\n",
        "  for i in range(mat.shape[0]):\n",
        "    for j in range(mat.shape[1]):\n",
        "      yield ((i, j), mat[i,j])\n",
        "      \n",
        "output = MapReduce(RECORDREADER, MAP, REDUCE)\n",
        "output = list(output)\n",
        "output"
      ]
    },
    {
      "cell_type": "markdown",
      "metadata": {
        "id": "ruZREYdi2o4O"
      },
      "source": [
        "## Inverted index "
      ]
    },
    {
      "cell_type": "code",
      "execution_count": 48,
      "metadata": {
        "colab": {
          "base_uri": "https://localhost:8080/",
          "height": 102
        },
        "id": "vt9H9Alf3TYv",
        "outputId": "51aeffc9-e111-4607-bd84-cfcc7b56f238"
      },
      "outputs": [
        {
          "data": {
            "text/plain": [
              "[('what', ['0', '1']),\n",
              " ('is', ['0', '1', '2']),\n",
              " ('it', ['0', '1', '2']),\n",
              " ('banana', ['2']),\n",
              " ('a', ['2'])]"
            ]
          },
          "execution_count": 48,
          "metadata": {},
          "output_type": "execute_result"
        }
      ],
      "source": [
        "from typing import Iterator\n",
        "\n",
        "d1 = \"it is what it is\"\n",
        "d2 = \"what is it\"\n",
        "d3 = \"it is a banana\"\n",
        "documents = [d1, d2, d3]\n",
        "\n",
        "def RECORDREADER():\n",
        "  for (docid, document) in enumerate(documents):\n",
        "    yield (\"{}\".format(docid), document)\n",
        "      \n",
        "def MAP(docId:str, body:str):\n",
        "  for word in set(body.split(' ')):\n",
        "    yield (word, docId)\n",
        " \n",
        "def REDUCE(word:str, docIds:Iterator[str]):\n",
        "  yield (word, sorted(docIds))\n",
        "\n",
        "output = MapReduce(RECORDREADER, MAP, REDUCE)\n",
        "output = list(output)\n",
        "output"
      ]
    },
    {
      "cell_type": "markdown",
      "metadata": {
        "id": "R7az-6DA6qr2"
      },
      "source": [
        "## WordCount"
      ]
    },
    {
      "cell_type": "code",
      "execution_count": 49,
      "metadata": {
        "colab": {
          "base_uri": "https://localhost:8080/",
          "height": 34
        },
        "id": "dN-nbtgG6uYG",
        "outputId": "24117576-7931-401d-a581-28e246b23453"
      },
      "outputs": [
        {
          "data": {
            "text/plain": [
              "[('', 3), ('it', 9), ('is', 9), ('what', 5), ('a', 1), ('banana', 1)]"
            ]
          },
          "execution_count": 49,
          "metadata": {},
          "output_type": "execute_result"
        }
      ],
      "source": [
        "from typing import Iterator\n",
        "\n",
        "d1 = \"\"\"\n",
        "it is what it is\n",
        "it is what it is\n",
        "it is what it is\"\"\"\n",
        "d2 = \"\"\"\n",
        "what is it\n",
        "what is it\"\"\"\n",
        "d3 = \"\"\"\n",
        "it is a banana\"\"\"\n",
        "documents = [d1, d2, d3]\n",
        "\n",
        "def RECORDREADER():\n",
        "  for (docid, document) in enumerate(documents):\n",
        "    for (lineid, line) in enumerate(document.split('\\n')):\n",
        "      yield (\"{}:{}\".format(docid,lineid), line)\n",
        "\n",
        "def MAP(docId:str, line:str):\n",
        "  for word in line.split(\" \"):  \n",
        "    yield (word, 1)\n",
        " \n",
        "def REDUCE(word:str, counts:Iterator[int]):\n",
        "  sum = 0\n",
        "  for c in counts:\n",
        "    sum += c\n",
        "  yield (word, sum)\n",
        "\n",
        "output = MapReduce(RECORDREADER, MAP, REDUCE)\n",
        "output = list(output)\n",
        "output"
      ]
    },
    {
      "cell_type": "markdown",
      "metadata": {
        "id": "h-jRAcYCAkkk"
      },
      "source": [
        "# MapReduce Distributed\n",
        "\n",
        "Добавляется в модель фабрика RECORDREARER-ов --- INPUTFORMAT, функция распределения промежуточных результатов по партициям PARTITIONER, и функция COMBINER для частичной аггрегации промежуточных результатов до распределения по новым партициям."
      ]
    },
    {
      "cell_type": "code",
      "execution_count": 50,
      "metadata": {
        "id": "nw-b-xJsApgW"
      },
      "outputs": [],
      "source": [
        "def flatten(nested_iterable):\n",
        "  for iterable in nested_iterable:\n",
        "    for element in iterable:\n",
        "      yield element\n",
        "\n",
        "def groupbykey(iterable):\n",
        "  t = {}\n",
        "  for (k2, v2) in iterable:\n",
        "    t[k2] = t.get(k2, []) + [v2]\n",
        "  return t.items()\n",
        "      \n",
        "def groupbykey_distributed(map_partitions, PARTITIONER):\n",
        "  global reducers\n",
        "  partitions = [dict() for _ in range(reducers)]\n",
        "  for map_partition in map_partitions:\n",
        "    for (k2, v2) in map_partition:\n",
        "      p = partitions[PARTITIONER(k2)]\n",
        "      p[k2] = p.get(k2, []) + [v2]\n",
        "  return [(partition_id, sorted(partition.items(), key=lambda x: x[0])) for (partition_id, partition) in enumerate(partitions)]\n",
        " \n",
        "def PARTITIONER(obj):\n",
        "  global reducers\n",
        "  return hash(obj) % reducers\n",
        "  \n",
        "def MapReduceDistributed(INPUTFORMAT, MAP, REDUCE, PARTITIONER=PARTITIONER, COMBINER=None):\n",
        "  map_partitions = map(lambda record_reader: flatten(map(lambda k1v1: MAP(*k1v1), record_reader)), INPUTFORMAT())\n",
        "  if COMBINER != None:\n",
        "    map_partitions = map(lambda map_partition: flatten(map(lambda k2v2: COMBINER(*k2v2), groupbykey(map_partition))), map_partitions)\n",
        "  reduce_partitions = groupbykey_distributed(map_partitions, PARTITIONER) # shuffle\n",
        "  reduce_outputs = map(lambda reduce_partition: (reduce_partition[0], flatten(map(lambda reduce_input_group: REDUCE(*reduce_input_group), reduce_partition[1]))), reduce_partitions)\n",
        "  \n",
        "  print(\"{} key-value pairs were sent over a network.\".format(sum([len(vs) for (k,vs) in flatten([partition for (partition_id, partition) in reduce_partitions])])))\n",
        "  return reduce_outputs"
      ]
    },
    {
      "cell_type": "markdown",
      "metadata": {
        "id": "kxirlf3XqZxY"
      },
      "source": [
        "## Спецификация MapReduce Distributed\n",
        "\n",
        "\n",
        "```\n",
        "f (k1, v1) -> (k2,v2)*\n",
        "g (k2, v2*) -> (k3,v3)*\n",
        " \n",
        "e1 (k1, v1)\n",
        "e2 (k2, v2)\n",
        "partition1 (k2, v2)*\n",
        "partition2 (k2, v2*)*\n",
        " \n",
        "flatmap (e1->e2*, e1*) -> partition1*\n",
        "groupby (partition1*) -> partition2*\n",
        "\n",
        "mapreduce ((k1,v1)*) -> (k3,v3)*\n",
        "mapreduce .flatmap(f).groupby(k2).flatmap(g)\n",
        "```\n",
        "\n"
      ]
    },
    {
      "cell_type": "markdown",
      "metadata": {
        "id": "CWYw_CpbbY3C"
      },
      "source": [
        "## WordCount "
      ]
    },
    {
      "cell_type": "code",
      "execution_count": 51,
      "metadata": {
        "colab": {
          "base_uri": "https://localhost:8080/",
          "height": 68
        },
        "id": "uR_zfGFkMZlp",
        "outputId": "c8d46167-473d-43b9-881a-2396991b3731"
      },
      "outputs": [
        {
          "name": "stdout",
          "output_type": "stream",
          "text": [
            "56 key-value pairs were sent over a network.\n"
          ]
        },
        {
          "data": {
            "text/plain": [
              "[(0, [('', 6), ('a', 2), ('banana', 2), ('what', 10)]),\n",
              " (1, [('is', 18), ('it', 18)])]"
            ]
          },
          "execution_count": 51,
          "metadata": {},
          "output_type": "execute_result"
        }
      ],
      "source": [
        "from typing import Iterator\n",
        "import numpy as np\n",
        "\n",
        "d1 = \"\"\"\n",
        "it is what it is\n",
        "it is what it is\n",
        "it is what it is\"\"\"\n",
        "d2 = \"\"\"\n",
        "what is it\n",
        "what is it\"\"\"\n",
        "d3 = \"\"\"\n",
        "it is a banana\"\"\"\n",
        "documents = [d1, d2, d3, d1, d2, d3]\n",
        "\n",
        "maps = 3\n",
        "reducers = 2\n",
        "\n",
        "def INPUTFORMAT():\n",
        "  global maps\n",
        "  \n",
        "  def RECORDREADER(split):\n",
        "    for (docid, document) in enumerate(split):\n",
        "      for (lineid, line) in enumerate(document.split('\\n')):\n",
        "        yield (\"{}:{}\".format(docid,lineid), line)\n",
        "      \n",
        "  split_size =  int(np.ceil(len(documents)/maps))\n",
        "  for i in range(0, len(documents), split_size):\n",
        "    yield RECORDREADER(documents[i:i+split_size])\n",
        "\n",
        "def MAP(docId:str, line:str):\n",
        "  for word in line.split(\" \"):  \n",
        "    yield (word, 1)\n",
        " \n",
        "def REDUCE(word:str, counts:Iterator[int]):\n",
        "  sum = 0\n",
        "  for c in counts:\n",
        "    sum += c\n",
        "  yield (word, sum)\n",
        "  \n",
        "# try to set COMBINER=REDUCER and look at the number of values sent over the network \n",
        "partitioned_output = MapReduceDistributed(INPUTFORMAT, MAP, REDUCE, COMBINER=None) \n",
        "partitioned_output = [(partition_id, list(partition)) for (partition_id, partition) in partitioned_output]\n",
        "partitioned_output"
      ]
    },
    {
      "cell_type": "markdown",
      "metadata": {
        "id": "gCJGx8IQ87xS"
      },
      "source": [
        "## TeraSort"
      ]
    },
    {
      "cell_type": "code",
      "execution_count": 52,
      "metadata": {
        "colab": {
          "base_uri": "https://localhost:8080/",
          "height": 578
        },
        "id": "P2v8v1v_8_YR",
        "outputId": "e0987c25-9757-46cb-8e55-d5d2adfbee2b"
      },
      "outputs": [
        {
          "name": "stdout",
          "output_type": "stream",
          "text": [
            "30 key-value pairs were sent over a network.\n"
          ]
        },
        {
          "data": {
            "text/plain": [
              "[(0,\n",
              "  [(None, 0.004664326848199729),\n",
              "   (None, 0.027116440619612048),\n",
              "   (None, 0.08419354246006427),\n",
              "   (None, 0.15530134662124506),\n",
              "   (None, 0.198260254433421),\n",
              "   (None, 0.23369628036631873),\n",
              "   (None, 0.23549943133263318),\n",
              "   (None, 0.24051685772335374),\n",
              "   (None, 0.24891982439870597),\n",
              "   (None, 0.26071223154111656),\n",
              "   (None, 0.3005688241329053),\n",
              "   (None, 0.32975540373260037),\n",
              "   (None, 0.3900938777033659),\n",
              "   (None, 0.3949904088774151),\n",
              "   (None, 0.399177938812597),\n",
              "   (None, 0.4052423393646022),\n",
              "   (None, 0.44851910005253637)]),\n",
              " (1,\n",
              "  [(None, 0.5528939730186209),\n",
              "   (None, 0.5704863301652405),\n",
              "   (None, 0.5899008940965315),\n",
              "   (None, 0.6166221253164378),\n",
              "   (None, 0.658098515185066),\n",
              "   (None, 0.6779699424873804),\n",
              "   (None, 0.7079908109679688),\n",
              "   (None, 0.7239949380104916),\n",
              "   (None, 0.7257466968989527),\n",
              "   (None, 0.7451820300198185),\n",
              "   (None, 0.7993057144122588),\n",
              "   (None, 0.8374091582409976),\n",
              "   (None, 0.9636688032102384)])]"
            ]
          },
          "execution_count": 52,
          "metadata": {},
          "output_type": "execute_result"
        }
      ],
      "source": [
        "import numpy as np\n",
        "\n",
        "input_values = np.random.rand(30)\n",
        "maps = 3\n",
        "reducers = 2\n",
        "min_value = 0.0\n",
        "max_value = 1.0\n",
        "\n",
        "def INPUTFORMAT():\n",
        "  global maps\n",
        "  \n",
        "  def RECORDREADER(split):\n",
        "    for value in split:\n",
        "        yield (value, None)\n",
        "      \n",
        "  split_size =  int(np.ceil(len(input_values)/maps))\n",
        "  for i in range(0, len(input_values), split_size):\n",
        "    yield RECORDREADER(input_values[i:i+split_size])\n",
        "    \n",
        "def MAP(value:int, _):\n",
        "  yield (value, None)\n",
        "  \n",
        "def PARTITIONER(key):\n",
        "  global reducers\n",
        "  global max_value\n",
        "  global min_value\n",
        "  bucket_size = (max_value-min_value)/reducers\n",
        "  bucket_id = 0\n",
        "  while((key>(bucket_id+1)*bucket_size) and ((bucket_id+1)*bucket_size<max_value)):\n",
        "    bucket_id += 1\n",
        "  return bucket_id\n",
        "\n",
        "def REDUCE(value:int, _):\n",
        "  yield (None,value)\n",
        "  \n",
        "partitioned_output = MapReduceDistributed(INPUTFORMAT, MAP, REDUCE, COMBINER=None, PARTITIONER=PARTITIONER)\n",
        "partitioned_output = [(partition_id, list(partition)) for (partition_id, partition) in partitioned_output]\n",
        "partitioned_output"
      ]
    },
    {
      "cell_type": "code",
      "execution_count": null,
      "metadata": {
        "id": "MQhoJaVZI93G"
      },
      "outputs": [],
      "source": []
    },
    {
      "cell_type": "markdown",
      "metadata": {
        "id": "Iy65YJTH99iT"
      },
      "source": [
        "# Упражнения\n",
        "Упражнения взяты из Rajaraman A., Ullman J. D. Mining of massive datasets. – Cambridge University Press, 2011.\n",
        "\n",
        "\n",
        "Для выполнения заданий переопределите функции RECORDREADER, MAP, REDUCE. Для модели распределённой системы может потребоваться переопределение функций PARTITION и COMBINER."
      ]
    },
    {
      "cell_type": "markdown",
      "metadata": {
        "id": "cfvAeZm3S8S8"
      },
      "source": [
        "### Максимальное значение ряда\n",
        "\n",
        "Разработайте MapReduce алгоритм, который находит максимальное число входного списка чисел."
      ]
    },
    {
      "cell_type": "code",
      "execution_count": 53,
      "metadata": {
        "id": "3GRA1JR-Tkbg"
      },
      "outputs": [
        {
          "name": "stdout",
          "output_type": "stream",
          "text": [
            "[67, 36, 7, 88, 36, 79, 2, 18, 50, 29, 0, 47, 0, 58, 8, 100, 63, 93, 48, 90, 88, 25, 10, 44, 73, 80, 3, 61, 58, 7, 93, 48, 80, 17, 42, 9, 9, 20, 92, 8, 80, 34, 11, 21, 79, 27, 97, 24, 98, 61, 45, 72, 16, 13, 55, 62, 83, 47, 85, 19, 42, 57, 46, 27, 0, 48, 99, 17, 75, 4, 48, 85, 65, 84, 3, 96, 72, 8, 85, 96, 21, 41, 54, 33, 28, 58, 18, 29, 16, 52, 78, 86, 48, 15, 94, 91, 39, 8, 42, 65] \n",
            "\n",
            "[[67, 36, 7, 88, 36], [79, 2, 18, 50, 29], [0, 47, 0, 58, 8], [100, 63, 93, 48, 90], [88, 25, 10, 44, 73], [80, 3, 61, 58, 7], [93, 48, 80, 17, 42], [9, 9, 20, 92, 8], [80, 34, 11, 21, 79], [27, 97, 24, 98, 61], [45, 72, 16, 13, 55], [62, 83, 47, 85, 19], [42, 57, 46, 27, 0], [48, 99, 17, 75, 4], [48, 85, 65, 84, 3], [96, 72, 8, 85, 96], [21, 41, 54, 33, 28], [58, 18, 29, 16, 52], [78, 86, 48, 15, 94], [91, 39, 8, 42, 65]] \n",
            "\n",
            "100\n"
          ]
        }
      ],
      "source": [
        "import random\n",
        "\n",
        "def MAP(chunk):\n",
        "    return max(chunk)\n",
        "\n",
        "def REDUCE(results):\n",
        "    return max(results)\n",
        "\n",
        "def RECORDREADER(count):\n",
        "    return [random.randint(0, 100) for i in range(count)]\n",
        "\n",
        "record = RECORDREADER(100)\n",
        "print(record,'\\n')\n",
        "\n",
        "part_count = 5\n",
        "record_partitional = [record[d:d + part_count] for d in range(0, len(record), part_count)]\n",
        "print(record_partitional,'\\n')\n",
        "\n",
        "print(REDUCE(list(map(lambda x: MAP(x), record_partitional))))\n",
        "     "
      ]
    },
    {
      "cell_type": "markdown",
      "metadata": {
        "id": "k86bXnqZTk-U"
      },
      "source": [
        "### Арифметическое среднее\n",
        "\n",
        "Разработайте MapReduce алгоритм, который находит арифметическое среднее.\n",
        "\n",
        "$$\\overline{X} = \\frac{1}{n}\\sum_{i=0}^{n} x_i$$\n"
      ]
    },
    {
      "cell_type": "code",
      "execution_count": 54,
      "metadata": {
        "id": "MPoY5pkfUNZf"
      },
      "outputs": [
        {
          "name": "stdout",
          "output_type": "stream",
          "text": [
            "[(1, 40), (1, 17), (1, 14), (1, 55), (1, 41), (1, 48), (1, 5), (1, 87), (1, 40), (1, 50), (1, 87), (1, 0), (1, 51), (1, 28), (1, 93), (1, 98), (1, 22), (1, 48), (1, 67), (1, 44), (1, 44), (1, 0), (1, 67), (1, 31), (1, 56), (1, 6), (1, 5), (1, 5), (1, 53), (1, 80), (1, 18), (1, 15), (1, 75), (1, 50), (1, 37), (1, 73), (1, 94), (1, 16), (1, 99), (1, 0), (1, 17), (1, 6), (1, 16), (1, 2), (1, 8), (1, 94), (1, 7), (1, 74), (1, 74), (1, 83), (1, 4), (1, 49), (1, 78), (1, 48), (1, 58), (1, 12), (1, 59), (1, 18), (1, 69), (1, 48), (1, 100), (1, 93), (1, 22), (1, 53), (1, 42), (1, 41), (1, 50), (1, 79), (1, 72), (1, 63), (1, 75), (1, 55), (1, 61), (1, 89), (1, 57), (1, 22), (1, 52), (1, 12), (1, 80), (1, 73), (1, 45), (1, 8), (1, 87), (1, 76), (1, 70), (1, 86), (1, 8), (1, 98), (1, 54), (1, 83), (1, 4), (1, 76), (1, 98), (1, 40), (1, 50), (1, 90), (1, 3), (1, 99), (1, 69), (1, 44)]\n",
            "[(1, [40, 17, 14, 55, 41, 48, 5, 87, 40, 50, 87, 0, 51, 28, 93, 98, 22, 48, 67, 44, 44, 0, 67, 31, 56, 6, 5, 5, 53, 80, 18, 15, 75, 50, 37, 73, 94, 16, 99, 0, 17, 6, 16, 2, 8, 94, 7, 74, 74, 83, 4, 49, 78, 48, 58, 12, 59, 18, 69, 48, 100, 93, 22, 53, 42, 41, 50, 79, 72, 63, 75, 55, 61, 89, 57, 22, 52, 12, 80, 73, 45, 8, 87, 76, 70, 86, 8, 98, 54, 83, 4, 76, 98, 40, 50, 90, 3, 99, 69, 44])]\n",
            "[49.62]\n"
          ]
        }
      ],
      "source": [
        "from multiprocessing import Pool\n",
        "\n",
        "def MAP(chunk):\n",
        "    return (1, chunk)\n",
        "\n",
        "def REDUCE(key, nums: Iterator[NamedTuple]):\n",
        "    sum = 0\n",
        "    count = 0\n",
        "    for n in nums:\n",
        "        sum += n\n",
        "        count += 1\n",
        "    yield sum / count\n",
        "\n",
        "def RECORDREADER(count):\n",
        "    return [random.randint(0, 100) for i in range(count)]\n",
        "\n",
        "\n",
        "map_output = list(map(lambda x: MAP(x), RECORDREADER(100)))\n",
        "print(map_output)\n",
        "\n",
        "shuffle_output = groupbykey(map_output)\n",
        "shuffle_output = list(shuffle_output)\n",
        "\n",
        "print(shuffle_output)\n",
        "\n",
        "reduce_output = list(flatten(map(lambda x: REDUCE(*x), shuffle_output)))\n",
        "print(reduce_output)\n"
      ]
    },
    {
      "cell_type": "markdown",
      "metadata": {
        "id": "xanzszhsIlLe"
      },
      "source": [
        "### GroupByKey на основе сортировки\n",
        "\n",
        "Реализуйте groupByKey на основе сортировки, проверьте его работу на примерах"
      ]
    },
    {
      "cell_type": "code",
      "execution_count": 55,
      "metadata": {
        "id": "hQPn3USsIkEC"
      },
      "outputs": [
        {
          "name": "stdout",
          "output_type": "stream",
          "text": [
            "[(1, 55), (1, 100), (1, 0), (1, 17), (1, 24), (1, 1), (1, 45), (1, 93), (1, 61), (1, 74), (1, 26), (1, 34), (1, 37), (1, 97), (1, 62), (1, 87), (1, 52), (1, 25), (1, 86), (1, 33), (1, 37), (1, 11), (1, 33), (1, 30), (1, 31), (1, 76), (1, 87), (1, 35), (1, 54), (1, 80), (1, 34), (1, 14), (1, 49), (1, 13), (1, 92), (1, 10), (1, 34), (1, 26), (1, 6), (1, 43), (1, 33), (1, 57), (1, 80), (1, 77), (1, 91), (1, 40), (1, 95), (1, 49), (1, 65), (1, 96), (1, 38), (1, 11), (1, 64), (1, 60), (1, 31), (1, 17), (1, 12), (1, 96), (1, 32), (1, 55), (1, 13), (1, 68), (1, 15), (1, 83), (1, 98), (1, 92), (1, 88), (1, 83), (1, 48), (1, 25), (1, 14), (1, 2), (1, 45), (1, 16), (1, 9), (1, 19), (1, 14), (1, 44), (1, 45), (1, 55), (1, 99), (1, 33), (1, 2), (1, 12), (1, 2), (1, 66), (1, 22), (1, 71), (1, 45), (1, 95), (1, 78), (1, 40), (1, 14), (1, 71), (1, 91), (1, 0), (1, 30), (1, 69), (1, 97), (1, 27)]\n",
            "[(1, [55, 100, 0, 17, 24, 1, 45, 93, 61, 74, 26, 34, 37, 97, 62, 87, 52, 25, 86, 33, 37, 11, 33, 30, 31, 76, 87, 35, 54, 80, 34, 14, 49, 13, 92, 10, 34, 26, 6, 43, 33, 57, 80, 77, 91, 40, 95, 49, 65, 96, 38, 11, 64, 60, 31, 17, 12, 96, 32, 55, 13, 68, 15, 83, 98, 92, 88, 83, 48, 25, 14, 2, 45, 16, 9, 19, 14, 44, 45, 55, 99, 33, 2, 12, 2, 66, 22, 71, 45, 95, 78, 40, 14, 71, 91, 0, 30, 69, 97, 27])]\n",
            "[47.43]\n"
          ]
        }
      ],
      "source": [
        "\n",
        "def group_by_key(iterable):\n",
        "    sorted_data = sorted(iterable, key=lambda x: x[0])\n",
        "    grouped_data = {}\n",
        "    for key, value in sorted_data:\n",
        "        if key not in grouped_data:\n",
        "            grouped_data[key] = [value]\n",
        "        else:\n",
        "            grouped_data[key].append(value)\n",
        "    result = []\n",
        "    for key, value in grouped_data.items():\n",
        "        result.append((key, value))\n",
        "    return result\n",
        "\n",
        "def MAP(num):\n",
        "    return (1, num)\n",
        "\n",
        "\n",
        "def REDUCE(key, nums: Iterator[NamedTuple]):\n",
        "    sum = 0\n",
        "    count = 0\n",
        "    for n in nums:\n",
        "        sum += n\n",
        "        count += 1\n",
        "    yield sum / count\n",
        "\n",
        "\n",
        "def RECORDREADER(count):\n",
        "    return [random.randint(0, 100) for i in range(count)]\n",
        "\n",
        "map_output = list(map(lambda x: MAP(x), RECORDREADER(100)))\n",
        "print(map_output)\n",
        "\n",
        "shuffle_output = group_by_key(map_output)\n",
        "shuffle_output = list(shuffle_output)\n",
        "\n",
        "print(shuffle_output)\n",
        "\n",
        "reduce_output = list(flatten(map(lambda x: REDUCE(*x), shuffle_output)))\n",
        "print(reduce_output)\n",
        "     "
      ]
    },
    {
      "cell_type": "markdown",
      "metadata": {
        "id": "5SgEjCZyGnu6"
      },
      "source": [
        "### Drop duplicates (set construction, unique elements, distinct)\n",
        "\n",
        "Реализуйте распределённую операцию исключения дубликатов"
      ]
    },
    {
      "cell_type": "code",
      "execution_count": 56,
      "metadata": {
        "id": "okjbyApjGhMt"
      },
      "outputs": [
        {
          "name": "stdout",
          "output_type": "stream",
          "text": [
            "7 key-value pairs were sent over a network.\n"
          ]
        },
        {
          "data": {
            "text/plain": [
              "[(0,\n",
              "  [User(id=0, age=54, social_contacts=20, gender='male'),\n",
              "   User(id=2, age=16, social_contacts=123, gender='male')]),\n",
              " (1,\n",
              "  [User(id=1, age=27, social_contacts=642, gender='male'),\n",
              "   User(id=3, age=31, social_contacts=521, gender='male')])]"
            ]
          },
          "execution_count": 56,
          "metadata": {},
          "output_type": "execute_result"
        }
      ],
      "source": [
        "input_collection = [\n",
        "    User(id=0, age=54, gender=\"male\", social_contacts=20),\n",
        "    User(id=0, age=25, gender=\"female\", social_contacts=240),\n",
        "    User(id=1, age=27, gender=\"male\", social_contacts=642),\n",
        "    User(id=2, age=16, gender=\"male\", social_contacts=123),\n",
        "    User(id=2, age=35, gender=\"female\", social_contacts=247),\n",
        "    User(id=3, age=31, gender=\"male\", social_contacts=521),\n",
        "    User(id=3, age=32, gender=\"female\", social_contacts=753),\n",
        "]\n",
        "\n",
        "def flatten(nested_iterable):\n",
        "    for iterable in nested_iterable:\n",
        "        for element in iterable:\n",
        "            yield element\n",
        "\n",
        "\n",
        "def groupbykey(iterable):\n",
        "    t = {}\n",
        "    for k2, v2 in iterable:\n",
        "        t[k2] = t.get(k2, []) + [v2]\n",
        "    return t.items()\n",
        "\n",
        "\n",
        "def groupbykey_distributed(map_partitions, PARTITIONER):\n",
        "    global reducers\n",
        "    partitions = [dict() for _ in range(reducers)]\n",
        "    for map_partition in map_partitions:\n",
        "        for k2, v2 in map_partition:\n",
        "            p = partitions[PARTITIONER(k2)]\n",
        "            p[k2] = p.get(k2, []) + [v2]\n",
        "    return [\n",
        "        (partition_id, sorted(partition.items(), key=lambda x: x[0]))\n",
        "        for (partition_id, partition) in enumerate(partitions)\n",
        "    ]\n",
        "\n",
        "\n",
        "def PARTITIONER(obj):\n",
        "    global reducers\n",
        "    return hash(obj) % reducers\n",
        "\n",
        "\n",
        "def MapReduceDistributed(\n",
        "    INPUTFORMAT, MAP, REDUCE, PARTITIONER=PARTITIONER, COMBINER=None\n",
        "):\n",
        "    map_partitions = map(\n",
        "        lambda record_reader: flatten(map(lambda k1v1: MAP(*k1v1), record_reader)),\n",
        "        INPUTFORMAT(),\n",
        "    )\n",
        "    if COMBINER != None:\n",
        "        map_partitions = map(\n",
        "            lambda map_partition: flatten(\n",
        "                map(lambda k2v2: COMBINER(*k2v2), groupbykey(map_partition))\n",
        "            ),\n",
        "            map_partitions,\n",
        "        )\n",
        "    reduce_partitions = groupbykey_distributed(map_partitions, PARTITIONER)  # shuffle\n",
        "    reduce_outputs = map(\n",
        "        lambda reduce_partition: (\n",
        "            reduce_partition[0],\n",
        "            flatten(\n",
        "                map(\n",
        "                    lambda reduce_input_group: REDUCE(*reduce_input_group),\n",
        "                    reduce_partition[1],\n",
        "                )\n",
        "            ),\n",
        "        ),\n",
        "        reduce_partitions,\n",
        "    )\n",
        "\n",
        "    print(\n",
        "        \"{} key-value pairs were sent over a network.\".format(\n",
        "            sum(\n",
        "                [\n",
        "                    len(vs)\n",
        "                    for (k, vs) in flatten(\n",
        "                        [partition for (partition_id, partition) in reduce_partitions]\n",
        "                    )\n",
        "                ]\n",
        "            )\n",
        "        )\n",
        "    )\n",
        "    return reduce_outputs\n",
        "\n",
        "maps = 3\n",
        "reducers = 2\n",
        "\n",
        "\n",
        "def INPUTFORMAT():\n",
        "    global maps\n",
        "\n",
        "    def RECORDREADER(split):\n",
        "        for userindex, user in enumerate(split):\n",
        "            yield (userindex, user)\n",
        "\n",
        "    # Разделение массива пользователей между вычислительными узлами\n",
        "    split_size = int(np.ceil(len(input_collection) / maps))\n",
        "    for i in range(0, len(input_collection), split_size):\n",
        "        yield RECORDREADER(input_collection[i : i + split_size])\n",
        "\n",
        "\n",
        "# Группировка пользователей по id\n",
        "def MAP_UNIQUE(_, user: str):\n",
        "    yield (user.id, user)\n",
        "\n",
        "\n",
        "# Из множества пользователей с одинаковым id остается только первый\n",
        "def REDUCE_UNIQUE(user_id: int, users: Iterator[int]):\n",
        "    yield users[0]\n",
        "\n",
        "\n",
        "# try to set COMBINER=REDUCER and look at the number of values sent over the network\n",
        "partitioned_output = MapReduceDistributed(\n",
        "    INPUTFORMAT, MAP_UNIQUE, REDUCE_UNIQUE, COMBINER=None\n",
        ")\n",
        "partitioned_output = [\n",
        "    (partition_id, list(partition)) for (partition_id, partition) in partitioned_output\n",
        "]\n",
        "partitioned_output"
      ]
    },
    {
      "cell_type": "markdown",
      "metadata": {
        "id": "e7sRGoTXuJze"
      },
      "source": [
        "#Операторы реляционной алгебры\n",
        "### Selection (Выборка)\n",
        "\n",
        "**The Map Function**: Для  каждого кортежа $t \\in R$ вычисляется истинность предиката $C$. В случае истины создаётся пара ключ-значение $(t, t)$. В паре ключ и значение одинаковы, равны $t$.\n",
        "\n",
        "**The Reduce Function:** Роль функции Reduce выполняет функция идентичности, которая возвращает то же значение, что получила на вход.\n",
        "\n"
      ]
    },
    {
      "cell_type": "code",
      "execution_count": 57,
      "metadata": {
        "id": "4nKIKe59uIfc"
      },
      "outputs": [
        {
          "name": "stdout",
          "output_type": "stream",
          "text": [
            "[(84, 10, 52), (2, 96, 27), (19, 45, 18), (46, 33, 66), (52, 41, 91), (95, 17, 49), (64, 12, 59), (46, 5, 57), (9, 86, 20), (41, 100, 16), (59, 27, 90), (34, 22, 13), (47, 69, 40), (5, 49, 92), (22, 40, 38), (79, 80, 29), (94, 21, 17), (76, 4, 48), (48, 37, 22), (25, 25, 99), (32, 6, 58), (1, 11, 89), (48, 3, 33), (69, 9, 9), (74, 67, 41), (12, 53, 57), (87, 60, 18), (63, 58, 96), (16, 49, 2), (58, 24, 93), (60, 50, 65), (79, 2, 66), (40, 34, 5), (9, 40, 2), (95, 26, 20), (28, 45, 32), (80, 37, 20), (0, 28, 68), (14, 10, 73), (53, 88, 36), (42, 45, 59), (15, 35, 63), (85, 97, 17), (36, 19, 11), (46, 28, 14), (10, 53, 66), (99, 52, 25), (74, 88, 43), (70, 84, 19), (23, 100, 56), (13, 32, 74), (51, 42, 22), (27, 18, 10), (39, 83, 60), (95, 6, 20), (16, 37, 65), (97, 91, 97), (40, 93, 27), (60, 55, 88), (5, 94, 11), (61, 5, 29), (76, 40, 37), (30, 45, 13), (77, 25, 27), (63, 96, 25), (63, 84, 69), (69, 52, 14), (67, 53, 24), (72, 74, 31), (34, 13, 34), (65, 23, 82), (83, 27, 62), (32, 88, 74), (15, 35, 57), (50, 25, 49), (43, 14, 83), (23, 80, 45), (36, 90, 9), (73, 55, 97), (39, 36, 44), (29, 7, 53), (5, 39, 53), (59, 77, 39), (96, 32, 11), (31, 19, 36), (8, 49, 68), (83, 60, 0), (6, 79, 91), (18, 24, 62), (60, 40, 73), (51, 68, 71), (28, 98, 31), (36, 80, 61), (60, 59, 9), (91, 54, 63), (77, 60, 53), (22, 65, 6), (43, 29, 30), (38, 21, 51), (91, 74, 39)]\n",
            "[[(84, 10, 52), (2, 96, 27), (19, 45, 18), (46, 33, 66), (52, 41, 91)], [(95, 17, 49), (64, 12, 59), (46, 5, 57), (9, 86, 20), (41, 100, 16)], [(59, 27, 90), (34, 22, 13), (47, 69, 40), (5, 49, 92), (22, 40, 38)], [(79, 80, 29), (94, 21, 17), (76, 4, 48), (48, 37, 22), (25, 25, 99)], [(32, 6, 58), (1, 11, 89), (48, 3, 33), (69, 9, 9), (74, 67, 41)], [(12, 53, 57), (87, 60, 18), (63, 58, 96), (16, 49, 2), (58, 24, 93)], [(60, 50, 65), (79, 2, 66), (40, 34, 5), (9, 40, 2), (95, 26, 20)], [(28, 45, 32), (80, 37, 20), (0, 28, 68), (14, 10, 73), (53, 88, 36)], [(42, 45, 59), (15, 35, 63), (85, 97, 17), (36, 19, 11), (46, 28, 14)], [(10, 53, 66), (99, 52, 25), (74, 88, 43), (70, 84, 19), (23, 100, 56)], [(13, 32, 74), (51, 42, 22), (27, 18, 10), (39, 83, 60), (95, 6, 20)], [(16, 37, 65), (97, 91, 97), (40, 93, 27), (60, 55, 88), (5, 94, 11)], [(61, 5, 29), (76, 40, 37), (30, 45, 13), (77, 25, 27), (63, 96, 25)], [(63, 84, 69), (69, 52, 14), (67, 53, 24), (72, 74, 31), (34, 13, 34)], [(65, 23, 82), (83, 27, 62), (32, 88, 74), (15, 35, 57), (50, 25, 49)], [(43, 14, 83), (23, 80, 45), (36, 90, 9), (73, 55, 97), (39, 36, 44)], [(29, 7, 53), (5, 39, 53), (59, 77, 39), (96, 32, 11), (31, 19, 36)], [(8, 49, 68), (83, 60, 0), (6, 79, 91), (18, 24, 62), (60, 40, 73)], [(51, 68, 71), (28, 98, 31), (36, 80, 61), (60, 59, 9), (91, 54, 63)], [(77, 60, 53), (22, 65, 6), (43, 29, 30), (38, 21, 51), (91, 74, 39)]]\n",
            "[dict_items([((84, 10, 52), [(84, 10, 52)]), ((2, 96, 27), [(2, 96, 27)]), ((46, 33, 66), [(46, 33, 66)]), ((52, 41, 91), [(52, 41, 91)])]), dict_items([((64, 12, 59), [(64, 12, 59)]), ((46, 5, 57), [(46, 5, 57)])]), dict_items([((34, 22, 13), [(34, 22, 13)]), ((22, 40, 38), [(22, 40, 38)])]), dict_items([((94, 21, 17), [(94, 21, 17)]), ((76, 4, 48), [(76, 4, 48)]), ((48, 37, 22), [(48, 37, 22)])]), dict_items([((32, 6, 58), [(32, 6, 58)]), ((48, 3, 33), [(48, 3, 33)]), ((74, 67, 41), [(74, 67, 41)])]), dict_items([((12, 53, 57), [(12, 53, 57)]), ((16, 49, 2), [(16, 49, 2)]), ((58, 24, 93), [(58, 24, 93)])]), dict_items([((60, 50, 65), [(60, 50, 65)]), ((40, 34, 5), [(40, 34, 5)])]), dict_items([((28, 45, 32), [(28, 45, 32)]), ((80, 37, 20), [(80, 37, 20)]), ((0, 28, 68), [(0, 28, 68)]), ((14, 10, 73), [(14, 10, 73)])]), dict_items([((42, 45, 59), [(42, 45, 59)]), ((36, 19, 11), [(36, 19, 11)]), ((46, 28, 14), [(46, 28, 14)])]), dict_items([((10, 53, 66), [(10, 53, 66)]), ((74, 88, 43), [(74, 88, 43)]), ((70, 84, 19), [(70, 84, 19)])]), dict_items([]), dict_items([((16, 37, 65), [(16, 37, 65)]), ((40, 93, 27), [(40, 93, 27)]), ((60, 55, 88), [(60, 55, 88)])]), dict_items([((76, 40, 37), [(76, 40, 37)]), ((30, 45, 13), [(30, 45, 13)])]), dict_items([((72, 74, 31), [(72, 74, 31)]), ((34, 13, 34), [(34, 13, 34)])]), dict_items([((32, 88, 74), [(32, 88, 74)]), ((50, 25, 49), [(50, 25, 49)])]), dict_items([((36, 90, 9), [(36, 90, 9)])]), dict_items([((96, 32, 11), [(96, 32, 11)])]), dict_items([((8, 49, 68), [(8, 49, 68)]), ((6, 79, 91), [(6, 79, 91)]), ((18, 24, 62), [(18, 24, 62)]), ((60, 40, 73), [(60, 40, 73)])]), dict_items([((28, 98, 31), [(28, 98, 31)]), ((36, 80, 61), [(36, 80, 61)]), ((60, 59, 9), [(60, 59, 9)])]), dict_items([((22, 65, 6), [(22, 65, 6)]), ((38, 21, 51), [(38, 21, 51)])])]\n",
            "[(84, 10, 52), (2, 96, 27), (46, 33, 66), (52, 41, 91), (64, 12, 59), (46, 5, 57), (34, 22, 13), (22, 40, 38), (94, 21, 17), (76, 4, 48), (48, 37, 22), (32, 6, 58), (48, 3, 33), (74, 67, 41), (12, 53, 57), (16, 49, 2), (58, 24, 93), (60, 50, 65), (40, 34, 5), (28, 45, 32), (80, 37, 20), (0, 28, 68), (14, 10, 73), (42, 45, 59), (36, 19, 11), (46, 28, 14), (10, 53, 66), (74, 88, 43), (70, 84, 19), (16, 37, 65), (40, 93, 27), (60, 55, 88), (76, 40, 37), (30, 45, 13), (72, 74, 31), (34, 13, 34), (32, 88, 74), (50, 25, 49), (36, 90, 9), (96, 32, 11), (8, 49, 68), (6, 79, 91), (18, 24, 62), (60, 40, 73), (28, 98, 31), (36, 80, 61), (60, 59, 9), (22, 65, 6), (38, 21, 51)]\n"
          ]
        }
      ],
      "source": [
        "from collections import defaultdict\n",
        "\n",
        "def MAP(el_list):\n",
        "    mapped_result = defaultdict(list)\n",
        "    for t in el_list:\n",
        "        if C(t):  # Предикат C\n",
        "            mapped_result[t].append(t)\n",
        "    return mapped_result.items()\n",
        "\n",
        "\n",
        "def REDUCE(mapped_items):\n",
        "    reduced_result = []\n",
        "    print(mapped_items)\n",
        "    for values in mapped_items:\n",
        "        for value in values:\n",
        "            reduced_result.append(value[0])\n",
        "    return reduced_result\n",
        "\n",
        "def C(t):\n",
        "    return t[0] % 2 == 0  # Выбираем только кортежи с четным первым элементом\n",
        "\n",
        "\n",
        "def RECORDREADER(count):\n",
        "    return [(random.randint(0, 100), random.randint(0, 100), random.randint(0, 100)) for i in range(count)]\n",
        "\n",
        "record = RECORDREADER(100)\n",
        "print(record)\n",
        "\n",
        "part_count = 5\n",
        "record_partitional = [record[d:d + part_count] for d in range(0, len(record), part_count)]\n",
        "print(record_partitional)\n",
        "\n",
        "print(REDUCE(list(map(lambda x: MAP(x), record_partitional))))"
      ]
    },
    {
      "cell_type": "markdown",
      "metadata": {
        "id": "w27Ca-_Ku85V"
      },
      "source": [
        "### Projection (Проекция)\n",
        "\n",
        "Проекция на множество атрибутов $S$.\n",
        "\n",
        "**The Map Function:** Для каждого кортежа $t \\in R$ создайте кортеж $t′$, исключая  из $t$ те значения, атрибуты которых не принадлежат  $S$. Верните пару $(t′, t′)$.\n",
        "\n",
        "**The Reduce Function:** Для каждого ключа $t′$, созданного любой Map задачей, вы получаете одну или несколько пар $(t′, t′)$. Reduce функция преобразует $(t′, [t′, t′, . . . , t′])$ в $(t′, t′)$, так, что для ключа $t′$ возвращается одна пара  $(t′, t′)$."
      ]
    },
    {
      "cell_type": "code",
      "execution_count": 58,
      "metadata": {
        "id": "BEvuY4GqvhS6"
      },
      "outputs": [
        {
          "name": "stdout",
          "output_type": "stream",
          "text": [
            "[(92, 20, 42), (94, 14, 34), (30, 56, 61), (36, 13, 26), (99, 19, 31), (4, 70, 4), (1, 44, 15), (6, 50, 33), (4, 33, 76), (42, 2, 77), (8, 38, 44), (63, 75, 40), (58, 22, 28), (30, 89, 42), (25, 38, 5), (29, 85, 40), (92, 77, 58), (89, 73, 70), (4, 79, 27), (23, 94, 1), (70, 24, 14), (91, 65, 8), (63, 100, 0), (46, 51, 52), (74, 45, 74), (20, 59, 11), (45, 54, 86), (82, 39, 56), (59, 11, 85), (53, 5, 76), (27, 96, 75), (27, 94, 12), (14, 55, 15), (64, 39, 93), (25, 29, 33), (80, 14, 84), (60, 99, 84), (67, 75, 39), (85, 3, 1), (46, 87, 28), (38, 32, 17), (82, 47, 11), (85, 23, 94), (67, 10, 84), (47, 44, 15), (40, 76, 15), (97, 34, 39), (13, 48, 76), (85, 45, 15), (70, 67, 12), (28, 43, 65), (58, 75, 85), (9, 37, 75), (91, 7, 86), (51, 52, 70), (0, 7, 32), (4, 40, 92), (48, 55, 92), (79, 10, 10), (49, 80, 12), (78, 56, 53), (41, 90, 46), (36, 79, 76), (23, 26, 74), (11, 32, 38), (26, 99, 28), (30, 43, 92), (40, 80, 97), (87, 25, 16), (81, 67, 2), (41, 48, 11), (85, 89, 74), (29, 22, 96), (40, 19, 71), (90, 43, 85), (70, 59, 65), (84, 63, 85), (73, 1, 50), (18, 30, 60), (4, 54, 49), (44, 80, 43), (74, 91, 63), (78, 76, 14), (74, 88, 62), (94, 10, 93), (22, 23, 27), (27, 37, 99), (100, 63, 76), (24, 51, 26), (100, 19, 16), (48, 94, 4), (17, 65, 54), (54, 77, 79), (57, 100, 24), (74, 64, 37), (74, 0, 17), (27, 22, 65), (41, 52, 2), (2, 67, 58), (16, 56, 96)]\n",
            "[((), ()), ((), ()), ((), ()), ((), ()), ((1,), (1,)), ((), ()), ((), ()), ((), ()), ((), ()), ((), ()), ((), ()), ((), ()), ((), ()), ((), ()), ((), ()), ((), ()), ((), ()), ((), ()), ((), ()), ((12,), (12,)), ((), ()), ((), ()), ((), ()), ((), ()), ((), ()), ((), ()), ((), ()), ((), ()), ((), ()), ((), ()), ((), ()), ((), ()), ((), ()), ((), ()), ((), ()), ((), ()), ((), ()), ((), ()), ((), ()), ((), ()), ((), ()), ((), ()), ((), ()), ((), ()), ((), ()), ((), ()), ((), ()), ((56,), (56,)), ((), ()), ((), ()), ((), ()), ((), ()), ((), ()), ((), ()), ((), ()), ((), ()), ((), ()), ((), ()), ((), ()), ((), ()), ((), ()), ((), ()), ((), ()), ((), ()), ((), ()), ((), ()), ((), ()), ((), ()), ((), ()), ((), ()), ((), ()), ((), ()), ((), ()), ((), ()), ((), ()), ((), ()), ((), ()), ((), ()), ((), ()), ((), ()), ((), ()), ((), ()), ((), ()), ((), ()), ((), ()), ((), ()), ((), ()), ((), ()), ((), ()), ((), ()), ((), ()), ((), ()), ((), ()), ((), ()), ((), ()), ((), ()), ((), ()), ((), ()), ((), ()), ((), ())]\n",
            "[((), [(), (), (), (), (), (), (), (), (), (), (), (), (), (), (), (), (), (), (), (), (), (), (), (), (), (), (), (), (), (), (), (), (), (), (), (), (), (), (), (), (), (), (), (), (), (), (), (), (), (), (), (), (), (), (), (), (), (), (), (), (), (), (), (), (), (), (), (), (), (), (), (), (), (), (), (), (), (), (), (), (), (), (), (), (), (), (), (), (), (), (), (), (), (), (), (), ()]), ((1,), [(1,)]), ((12,), [(12,)]), ((56,), [(56,)])]\n",
            "[(), (1,), (12,), (56,)]\n"
          ]
        }
      ],
      "source": [
        "S = set([1 ,12, 56])\n",
        "\n",
        "def MAP(t):\n",
        "  res_list = []\n",
        "  for el in t:\n",
        "    if el in S:\n",
        "      res_list.append(el)\n",
        "    res = tuple(res_list)\n",
        "    return (res, res)\n",
        "\n",
        "\n",
        "def REDUCE(key, values: Iterator[NamedTuple]):\n",
        "    return (key, key)\n",
        "\n",
        "def RECORDREADER(count):\n",
        "    return [(random.randint(0, 100), random.randint(0, 100), random.randint(0, 100)) for i in range(count)]\n",
        "\n",
        "def group_by_key(iterable):\n",
        "  t = {}\n",
        "  for (k2, v2) in iterable:\n",
        "    t[k2] = t.get(k2, []) + [v2]\n",
        "  return t.items()\n",
        "\n",
        "record = RECORDREADER(100)\n",
        "print(record)\n",
        "map_output = list(map(lambda x: MAP(x), RECORDREADER(100)))\n",
        "print(map_output)\n",
        "\n",
        "shuffle_output = group_by_key(map_output)\n",
        "shuffle_output = list(shuffle_output)\n",
        "\n",
        "print(shuffle_output)\n",
        "\n",
        "reduce_output = list(map(lambda x: REDUCE(*x)[0], shuffle_output))\n",
        "print(reduce_output)\n",
        "     "
      ]
    },
    {
      "cell_type": "markdown",
      "metadata": {
        "id": "7gau6lKXvn2R"
      },
      "source": [
        "### Union (Объединение)\n",
        "\n",
        "**The Map Function:** Превратите каждый входной кортеж $t$ в пару ключ-значение $(t, t)$.\n",
        "\n",
        "**The Reduce Function:** С каждым ключом $t$ будет ассоциировано одно или два значений. В обоих случаях создайте $(t, t)$ в качестве выходного значения."
      ]
    },
    {
      "cell_type": "code",
      "execution_count": 59,
      "metadata": {
        "id": "Sns7a5agv3nw"
      },
      "outputs": [
        {
          "name": "stdout",
          "output_type": "stream",
          "text": [
            "[(52, 72, 6), (75, 5, 44), (9, 12, 20), (73, 83, 94), (46, 38, 78), (0, 77, 88), (0, 10, 90), (60, 63, 44), (40, 73, 50), (58, 90, 63), (20, 75, 5), (53, 69, 30), (27, 29, 91), (78, 98, 32), (46, 40, 39), (88, 51, 63), (62, 57, 65), (75, 21, 67), (46, 81, 91), (78, 68, 19), (19, 38, 75), (53, 50, 29), (86, 100, 60), (55, 28, 92), (63, 18, 28), (52, 6, 49), (38, 56, 83), (22, 13, 60), (76, 23, 5), (83, 74, 49), (3, 25, 59), (37, 58, 1), (7, 47, 86), (37, 72, 60), (30, 51, 84), (43, 100, 74), (58, 12, 39), (14, 31, 48), (93, 15, 16), (77, 44, 46), (34, 64, 58), (73, 43, 22), (49, 65, 18), (85, 48, 0), (41, 14, 31), (89, 25, 69), (95, 68, 17), (86, 10, 37), (68, 42, 90), (67, 80, 46), (100, 61, 78), (43, 13, 92), (78, 61, 88), (16, 17, 21), (70, 8, 57), (38, 27, 10), (74, 24, 79), (18, 21, 75), (96, 36, 90), (76, 36, 4), (8, 95, 91), (94, 7, 71), (61, 51, 59), (44, 47, 53), (16, 54, 80), (76, 87, 82), (1, 18, 99), (71, 69, 91), (44, 46, 47), (34, 40, 34), (59, 86, 9), (88, 20, 68), (67, 58, 82), (2, 55, 29), (33, 30, 49), (18, 40, 89), (93, 54, 46), (0, 34, 62), (60, 70, 64), (65, 84, 56), (100, 91, 24), (43, 1, 50), (0, 64, 18), (97, 9, 13), (49, 15, 35), (80, 17, 10), (53, 19, 38), (83, 89, 98), (38, 30, 84), (87, 29, 44), (58, 6, 32), (99, 93, 8), (51, 18, 5), (53, 77, 70), (82, 80, 93), (12, 62, 34), (69, 14, 90), (17, 28, 64), (87, 38, 80), (11, 19, 28)]\n",
            "[((97, 88, 0), (97, 88, 0)), ((65, 92, 19), (65, 92, 19)), ((33, 59, 81), (33, 59, 81)), ((39, 76, 91), (39, 76, 91)), ((31, 24, 62), (31, 24, 62)), ((23, 88, 90), (23, 88, 90)), ((87, 88, 22), (87, 88, 22)), ((54, 40, 17), (54, 40, 17)), ((7, 37, 4), (7, 37, 4)), ((76, 100, 38), (76, 100, 38)), ((83, 68, 8), (83, 68, 8)), ((91, 53, 93), (91, 53, 93)), ((36, 25, 81), (36, 25, 81)), ((31, 8, 95), (31, 8, 95)), ((95, 12, 34), (95, 12, 34)), ((58, 61, 73), (58, 61, 73)), ((100, 13, 100), (100, 13, 100)), ((22, 89, 78), (22, 89, 78)), ((81, 4, 90), (81, 4, 90)), ((86, 60, 98), (86, 60, 98)), ((54, 51, 78), (54, 51, 78)), ((93, 47, 10), (93, 47, 10)), ((99, 29, 8), (99, 29, 8)), ((22, 30, 68), (22, 30, 68)), ((75, 45, 36), (75, 45, 36)), ((45, 4, 81), (45, 4, 81)), ((26, 43, 88), (26, 43, 88)), ((11, 90, 62), (11, 90, 62)), ((20, 89, 3), (20, 89, 3)), ((82, 51, 50), (82, 51, 50)), ((93, 98, 35), (93, 98, 35)), ((28, 70, 11), (28, 70, 11)), ((61, 22, 64), (61, 22, 64)), ((80, 81, 79), (80, 81, 79)), ((54, 13, 0), (54, 13, 0)), ((50, 43, 27), (50, 43, 27)), ((30, 6, 77), (30, 6, 77)), ((83, 41, 8), (83, 41, 8)), ((73, 12, 65), (73, 12, 65)), ((50, 100, 67), (50, 100, 67)), ((28, 38, 80), (28, 38, 80)), ((95, 63, 30), (95, 63, 30)), ((73, 28, 81), (73, 28, 81)), ((58, 18, 65), (58, 18, 65)), ((44, 96, 6), (44, 96, 6)), ((82, 38, 28), (82, 38, 28)), ((1, 7, 11), (1, 7, 11)), ((87, 16, 47), (87, 16, 47)), ((35, 66, 66), (35, 66, 66)), ((63, 53, 57), (63, 53, 57)), ((100, 14, 53), (100, 14, 53)), ((40, 72, 4), (40, 72, 4)), ((93, 85, 40), (93, 85, 40)), ((98, 5, 14), (98, 5, 14)), ((92, 0, 75), (92, 0, 75)), ((55, 88, 55), (55, 88, 55)), ((52, 20, 21), (52, 20, 21)), ((49, 81, 8), (49, 81, 8)), ((93, 33, 35), (93, 33, 35)), ((85, 66, 7), (85, 66, 7)), ((37, 79, 85), (37, 79, 85)), ((93, 31, 73), (93, 31, 73)), ((4, 22, 61), (4, 22, 61)), ((50, 98, 49), (50, 98, 49)), ((26, 74, 96), (26, 74, 96)), ((34, 24, 30), (34, 24, 30)), ((60, 8, 36), (60, 8, 36)), ((64, 1, 23), (64, 1, 23)), ((0, 23, 57), (0, 23, 57)), ((1, 70, 86), (1, 70, 86)), ((52, 33, 21), (52, 33, 21)), ((67, 83, 38), (67, 83, 38)), ((89, 27, 38), (89, 27, 38)), ((17, 61, 15), (17, 61, 15)), ((81, 72, 92), (81, 72, 92)), ((25, 56, 8), (25, 56, 8)), ((36, 63, 48), (36, 63, 48)), ((35, 93, 84), (35, 93, 84)), ((28, 86, 78), (28, 86, 78)), ((76, 14, 90), (76, 14, 90)), ((91, 87, 15), (91, 87, 15)), ((99, 61, 24), (99, 61, 24)), ((28, 0, 28), (28, 0, 28)), ((18, 61, 63), (18, 61, 63)), ((77, 56, 86), (77, 56, 86)), ((77, 10, 96), (77, 10, 96)), ((97, 31, 7), (97, 31, 7)), ((6, 35, 29), (6, 35, 29)), ((46, 24, 76), (46, 24, 76)), ((60, 98, 92), (60, 98, 92)), ((24, 63, 0), (24, 63, 0)), ((67, 4, 25), (67, 4, 25)), ((42, 74, 27), (42, 74, 27)), ((43, 23, 39), (43, 23, 39)), ((79, 89, 22), (79, 89, 22)), ((90, 71, 40), (90, 71, 40)), ((73, 39, 56), (73, 39, 56)), ((68, 54, 81), (68, 54, 81)), ((64, 15, 91), (64, 15, 91)), ((100, 5, 81), (100, 5, 81))]\n",
            "[((97, 88, 0), [(97, 88, 0)]), ((65, 92, 19), [(65, 92, 19)]), ((33, 59, 81), [(33, 59, 81)]), ((39, 76, 91), [(39, 76, 91)]), ((31, 24, 62), [(31, 24, 62)]), ((23, 88, 90), [(23, 88, 90)]), ((87, 88, 22), [(87, 88, 22)]), ((54, 40, 17), [(54, 40, 17)]), ((7, 37, 4), [(7, 37, 4)]), ((76, 100, 38), [(76, 100, 38)]), ((83, 68, 8), [(83, 68, 8)]), ((91, 53, 93), [(91, 53, 93)]), ((36, 25, 81), [(36, 25, 81)]), ((31, 8, 95), [(31, 8, 95)]), ((95, 12, 34), [(95, 12, 34)]), ((58, 61, 73), [(58, 61, 73)]), ((100, 13, 100), [(100, 13, 100)]), ((22, 89, 78), [(22, 89, 78)]), ((81, 4, 90), [(81, 4, 90)]), ((86, 60, 98), [(86, 60, 98)]), ((54, 51, 78), [(54, 51, 78)]), ((93, 47, 10), [(93, 47, 10)]), ((99, 29, 8), [(99, 29, 8)]), ((22, 30, 68), [(22, 30, 68)]), ((75, 45, 36), [(75, 45, 36)]), ((45, 4, 81), [(45, 4, 81)]), ((26, 43, 88), [(26, 43, 88)]), ((11, 90, 62), [(11, 90, 62)]), ((20, 89, 3), [(20, 89, 3)]), ((82, 51, 50), [(82, 51, 50)]), ((93, 98, 35), [(93, 98, 35)]), ((28, 70, 11), [(28, 70, 11)]), ((61, 22, 64), [(61, 22, 64)]), ((80, 81, 79), [(80, 81, 79)]), ((54, 13, 0), [(54, 13, 0)]), ((50, 43, 27), [(50, 43, 27)]), ((30, 6, 77), [(30, 6, 77)]), ((83, 41, 8), [(83, 41, 8)]), ((73, 12, 65), [(73, 12, 65)]), ((50, 100, 67), [(50, 100, 67)]), ((28, 38, 80), [(28, 38, 80)]), ((95, 63, 30), [(95, 63, 30)]), ((73, 28, 81), [(73, 28, 81)]), ((58, 18, 65), [(58, 18, 65)]), ((44, 96, 6), [(44, 96, 6)]), ((82, 38, 28), [(82, 38, 28)]), ((1, 7, 11), [(1, 7, 11)]), ((87, 16, 47), [(87, 16, 47)]), ((35, 66, 66), [(35, 66, 66)]), ((63, 53, 57), [(63, 53, 57)]), ((100, 14, 53), [(100, 14, 53)]), ((40, 72, 4), [(40, 72, 4)]), ((93, 85, 40), [(93, 85, 40)]), ((98, 5, 14), [(98, 5, 14)]), ((92, 0, 75), [(92, 0, 75)]), ((55, 88, 55), [(55, 88, 55)]), ((52, 20, 21), [(52, 20, 21)]), ((49, 81, 8), [(49, 81, 8)]), ((93, 33, 35), [(93, 33, 35)]), ((85, 66, 7), [(85, 66, 7)]), ((37, 79, 85), [(37, 79, 85)]), ((93, 31, 73), [(93, 31, 73)]), ((4, 22, 61), [(4, 22, 61)]), ((50, 98, 49), [(50, 98, 49)]), ((26, 74, 96), [(26, 74, 96)]), ((34, 24, 30), [(34, 24, 30)]), ((60, 8, 36), [(60, 8, 36)]), ((64, 1, 23), [(64, 1, 23)]), ((0, 23, 57), [(0, 23, 57)]), ((1, 70, 86), [(1, 70, 86)]), ((52, 33, 21), [(52, 33, 21)]), ((67, 83, 38), [(67, 83, 38)]), ((89, 27, 38), [(89, 27, 38)]), ((17, 61, 15), [(17, 61, 15)]), ((81, 72, 92), [(81, 72, 92)]), ((25, 56, 8), [(25, 56, 8)]), ((36, 63, 48), [(36, 63, 48)]), ((35, 93, 84), [(35, 93, 84)]), ((28, 86, 78), [(28, 86, 78)]), ((76, 14, 90), [(76, 14, 90)]), ((91, 87, 15), [(91, 87, 15)]), ((99, 61, 24), [(99, 61, 24)]), ((28, 0, 28), [(28, 0, 28)]), ((18, 61, 63), [(18, 61, 63)]), ((77, 56, 86), [(77, 56, 86)]), ((77, 10, 96), [(77, 10, 96)]), ((97, 31, 7), [(97, 31, 7)]), ((6, 35, 29), [(6, 35, 29)]), ((46, 24, 76), [(46, 24, 76)]), ((60, 98, 92), [(60, 98, 92)]), ((24, 63, 0), [(24, 63, 0)]), ((67, 4, 25), [(67, 4, 25)]), ((42, 74, 27), [(42, 74, 27)]), ((43, 23, 39), [(43, 23, 39)]), ((79, 89, 22), [(79, 89, 22)]), ((90, 71, 40), [(90, 71, 40)]), ((73, 39, 56), [(73, 39, 56)]), ((68, 54, 81), [(68, 54, 81)]), ((64, 15, 91), [(64, 15, 91)]), ((100, 5, 81), [(100, 5, 81)])]\n",
            "[(97, 88, 0), (65, 92, 19), (33, 59, 81), (39, 76, 91), (31, 24, 62), (23, 88, 90), (87, 88, 22), (54, 40, 17), (7, 37, 4), (76, 100, 38), (83, 68, 8), (91, 53, 93), (36, 25, 81), (31, 8, 95), (95, 12, 34), (58, 61, 73), (100, 13, 100), (22, 89, 78), (81, 4, 90), (86, 60, 98), (54, 51, 78), (93, 47, 10), (99, 29, 8), (22, 30, 68), (75, 45, 36), (45, 4, 81), (26, 43, 88), (11, 90, 62), (20, 89, 3), (82, 51, 50), (93, 98, 35), (28, 70, 11), (61, 22, 64), (80, 81, 79), (54, 13, 0), (50, 43, 27), (30, 6, 77), (83, 41, 8), (73, 12, 65), (50, 100, 67), (28, 38, 80), (95, 63, 30), (73, 28, 81), (58, 18, 65), (44, 96, 6), (82, 38, 28), (1, 7, 11), (87, 16, 47), (35, 66, 66), (63, 53, 57), (100, 14, 53), (40, 72, 4), (93, 85, 40), (98, 5, 14), (92, 0, 75), (55, 88, 55), (52, 20, 21), (49, 81, 8), (93, 33, 35), (85, 66, 7), (37, 79, 85), (93, 31, 73), (4, 22, 61), (50, 98, 49), (26, 74, 96), (34, 24, 30), (60, 8, 36), (64, 1, 23), (0, 23, 57), (1, 70, 86), (52, 33, 21), (67, 83, 38), (89, 27, 38), (17, 61, 15), (81, 72, 92), (25, 56, 8), (36, 63, 48), (35, 93, 84), (28, 86, 78), (76, 14, 90), (91, 87, 15), (99, 61, 24), (28, 0, 28), (18, 61, 63), (77, 56, 86), (77, 10, 96), (97, 31, 7), (6, 35, 29), (46, 24, 76), (60, 98, 92), (24, 63, 0), (67, 4, 25), (42, 74, 27), (43, 23, 39), (79, 89, 22), (90, 71, 40), (73, 39, 56), (68, 54, 81), (64, 15, 91), (100, 5, 81)]\n"
          ]
        }
      ],
      "source": [
        "def MAP(t):\n",
        "  return (t, t)\n",
        "\n",
        "\n",
        "def REDUCE(key, values: Iterator[NamedTuple]):\n",
        "    return (key, key)\n",
        "\n",
        "def RECORDREADER(count):\n",
        "    return [(random.randint(0, 100), random.randint(0, 100), random.randint(0, 100)) for i in range(count)]\n",
        "\n",
        "def group_by_key(iterable):\n",
        "  t = {}\n",
        "  for (k2, v2) in iterable:\n",
        "    t[k2] = t.get(k2, []) + [v2]\n",
        "  return t.items()\n",
        "\n",
        "record = RECORDREADER(100)\n",
        "print(record)\n",
        "map_output = list(map(lambda x: MAP(x), RECORDREADER(100)))\n",
        "print(map_output)\n",
        "\n",
        "shuffle_output = group_by_key(map_output)\n",
        "shuffle_output = list(shuffle_output)\n",
        "\n",
        "print(shuffle_output)\n",
        "\n",
        "reduce_output = list(map(lambda x: REDUCE(*x)[0], shuffle_output))\n",
        "print(reduce_output)"
      ]
    },
    {
      "cell_type": "markdown",
      "metadata": {
        "id": "dQ8TuEbjv4J8"
      },
      "source": [
        "### Intersection (Пересечение)\n",
        "\n",
        "**The Map Function:** Превратите каждый кортеж $t$ в пары ключ-значение $(t, t)$.\n",
        "\n",
        "**The Reduce Function:** Если для ключа $t$ есть список из двух элементов $[t, t]$ $-$ создайте пару $(t, t)$. Иначе, ничего не создавайте."
      ]
    },
    {
      "cell_type": "code",
      "execution_count": 60,
      "metadata": {
        "id": "XKlBZh4IwERR"
      },
      "outputs": [
        {
          "name": "stdout",
          "output_type": "stream",
          "text": [
            "[(0, 2), (3, 1), (0, 3), (2, 3), (3, 2), (3, 1), (0, 1), (0, 1), (2, 0), (2, 3), (1, 3), (1, 3), (1, 0), (3, 2), (3, 0), (1, 3), (1, 3), (0, 2), (0, 1), (2, 1), (0, 2), (0, 1), (2, 2), (0, 1), (0, 3), (0, 0), (1, 1), (0, 0), (3, 3), (3, 1), (0, 2), (0, 0), (3, 1), (2, 1), (1, 2), (1, 3), (0, 0), (0, 2), (1, 1), (2, 0), (3, 2), (1, 1), (1, 0), (2, 3), (3, 3), (2, 0), (3, 3), (2, 0), (2, 2), (3, 2), (3, 1), (2, 3), (3, 2), (3, 1), (2, 2), (1, 2), (2, 0), (3, 0), (1, 1), (2, 1), (3, 0), (0, 0), (2, 2), (1, 1), (0, 0), (0, 1), (0, 3), (1, 3), (3, 0), (1, 0), (0, 3), (3, 0), (2, 1), (2, 0), (0, 0), (0, 1), (3, 2), (1, 0), (1, 1), (3, 1), (3, 1), (1, 3), (1, 2), (1, 2), (0, 1), (3, 0), (1, 3), (2, 0), (3, 2), (0, 0), (2, 1), (3, 3), (2, 3), (3, 0), (2, 3), (3, 3), (3, 0), (3, 3), (3, 1), (2, 2)]\n",
            "[((1, 2), (1, 2)), ((3, 0), (3, 0)), ((3, 3), (3, 3)), ((1, 1), (1, 1)), ((2, 3), (2, 3)), ((1, 3), (1, 3)), ((2, 3), (2, 3)), ((0, 2), (0, 2)), ((2, 2), (2, 2)), ((2, 1), (2, 1)), ((2, 0), (2, 0)), ((1, 3), (1, 3)), ((0, 2), (0, 2)), ((2, 2), (2, 2)), ((0, 0), (0, 0)), ((0, 0), (0, 0)), ((3, 0), (3, 0)), ((3, 3), (3, 3)), ((0, 0), (0, 0)), ((1, 2), (1, 2)), ((3, 0), (3, 0)), ((0, 2), (0, 2)), ((1, 1), (1, 1)), ((3, 3), (3, 3)), ((2, 0), (2, 0)), ((1, 2), (1, 2)), ((1, 1), (1, 1)), ((3, 1), (3, 1)), ((2, 2), (2, 2)), ((1, 3), (1, 3)), ((2, 0), (2, 0)), ((1, 1), (1, 1)), ((1, 3), (1, 3)), ((2, 3), (2, 3)), ((3, 2), (3, 2)), ((0, 3), (0, 3)), ((2, 3), (2, 3)), ((2, 0), (2, 0)), ((3, 2), (3, 2)), ((3, 3), (3, 3)), ((3, 0), (3, 0)), ((1, 3), (1, 3)), ((1, 3), (1, 3)), ((1, 0), (1, 0)), ((1, 2), (1, 2)), ((1, 1), (1, 1)), ((3, 3), (3, 3)), ((2, 1), (2, 1)), ((2, 3), (2, 3)), ((0, 0), (0, 0)), ((2, 3), (2, 3)), ((1, 3), (1, 3)), ((2, 1), (2, 1)), ((2, 2), (2, 2)), ((3, 3), (3, 3)), ((1, 1), (1, 1)), ((0, 0), (0, 0)), ((3, 1), (3, 1)), ((3, 3), (3, 3)), ((0, 2), (0, 2)), ((1, 3), (1, 3)), ((2, 2), (2, 2)), ((1, 3), (1, 3)), ((1, 2), (1, 2)), ((2, 3), (2, 3)), ((2, 2), (2, 2)), ((0, 2), (0, 2)), ((0, 2), (0, 2)), ((1, 2), (1, 2)), ((0, 2), (0, 2)), ((2, 0), (2, 0)), ((3, 1), (3, 1)), ((1, 2), (1, 2)), ((2, 1), (2, 1)), ((1, 3), (1, 3)), ((0, 0), (0, 0)), ((0, 2), (0, 2)), ((1, 2), (1, 2)), ((0, 2), (0, 2)), ((3, 1), (3, 1)), ((0, 0), (0, 0)), ((2, 3), (2, 3)), ((2, 3), (2, 3)), ((1, 3), (1, 3)), ((2, 2), (2, 2)), ((3, 1), (3, 1)), ((2, 2), (2, 2)), ((1, 0), (1, 0)), ((2, 0), (2, 0)), ((0, 1), (0, 1)), ((2, 0), (2, 0)), ((1, 3), (1, 3)), ((0, 1), (0, 1)), ((2, 2), (2, 2)), ((1, 3), (1, 3)), ((3, 1), (3, 1)), ((2, 3), (2, 3)), ((0, 2), (0, 2)), ((2, 1), (2, 1)), ((1, 1), (1, 1))]\n",
            "[((1, 2), [(1, 2), (1, 2), (1, 2), (1, 2), (1, 2), (1, 2), (1, 2), (1, 2)]), ((3, 0), [(3, 0), (3, 0), (3, 0), (3, 0)]), ((3, 3), [(3, 3), (3, 3), (3, 3), (3, 3), (3, 3), (3, 3), (3, 3)]), ((1, 1), [(1, 1), (1, 1), (1, 1), (1, 1), (1, 1), (1, 1), (1, 1)]), ((2, 3), [(2, 3), (2, 3), (2, 3), (2, 3), (2, 3), (2, 3), (2, 3), (2, 3), (2, 3), (2, 3)]), ((1, 3), [(1, 3), (1, 3), (1, 3), (1, 3), (1, 3), (1, 3), (1, 3), (1, 3), (1, 3), (1, 3), (1, 3), (1, 3), (1, 3)]), ((0, 2), [(0, 2), (0, 2), (0, 2), (0, 2), (0, 2), (0, 2), (0, 2), (0, 2), (0, 2), (0, 2)]), ((2, 2), [(2, 2), (2, 2), (2, 2), (2, 2), (2, 2), (2, 2), (2, 2), (2, 2), (2, 2)]), ((2, 1), [(2, 1), (2, 1), (2, 1), (2, 1), (2, 1)]), ((2, 0), [(2, 0), (2, 0), (2, 0), (2, 0), (2, 0), (2, 0), (2, 0)]), ((0, 0), [(0, 0), (0, 0), (0, 0), (0, 0), (0, 0), (0, 0), (0, 0)]), ((3, 1), [(3, 1), (3, 1), (3, 1), (3, 1), (3, 1), (3, 1)]), ((3, 2), [(3, 2), (3, 2)]), ((0, 3), [(0, 3)]), ((1, 0), [(1, 0), (1, 0)]), ((0, 1), [(0, 1), (0, 1)])]\n",
            "[(3, 2), (1, 0), (0, 1)]\n"
          ]
        }
      ],
      "source": [
        "def MAP(t):\n",
        "  return (t, t)\n",
        "\n",
        "\n",
        "def REDUCE(key, values: Iterator[NamedTuple]):\n",
        "  if len(values) == 2:\n",
        "    return (key, key)\n",
        "\n",
        "def RECORDREADER(count):\n",
        "    return [(random.randint(0, 3), random.randint(0, 3)) for i in range(count)]\n",
        "\n",
        "def group_by_key(iterable):\n",
        "  t = {}\n",
        "  for (k2, v2) in iterable:\n",
        "    t[k2] = t.get(k2, []) + [v2]\n",
        "  return t.items()\n",
        "\n",
        "record = RECORDREADER(100)\n",
        "print(record)\n",
        "map_output = list(map(lambda x: MAP(x), RECORDREADER(100)))\n",
        "print(map_output)\n",
        "\n",
        "shuffle_output = group_by_key(map_output)\n",
        "shuffle_output = list(shuffle_output)\n",
        "\n",
        "print(shuffle_output)\n",
        "\n",
        "reduce_output = [el[0] for el in list(map(lambda x: REDUCE(*x), shuffle_output)) if el is not None]\n",
        "print(reduce_output)"
      ]
    },
    {
      "cell_type": "markdown",
      "metadata": {
        "id": "AVOpqoY3wE5k"
      },
      "source": [
        "### Difference (Разница)\n",
        "\n",
        "**The Map Function:** Для кортежа $t \\in R$, создайте пару $(t, R)$, и для кортежа $t \\in S$, создайте пару $(t, S)$. Задумка заключается в том, чтобы значение пары было именем отношения $R$ or $S$, которому принадлежит кортеж (а лучше, единичный бит, по которому можно два отношения различить $R$ or $S$), а не весь набор атрибутов отношения.\n",
        "\n",
        "**The Reduce Function:** Для каждого ключа $t$, если соответствующее значение является списком $[R]$, создайте пару $(t, t)$. В иных случаях не предпринимайте действий."
      ]
    },
    {
      "cell_type": "code",
      "execution_count": 61,
      "metadata": {
        "id": "QE_AC09lwZIZ"
      },
      "outputs": [
        {
          "name": "stdout",
          "output_type": "stream",
          "text": [
            "[<__main__.Tuple object at 0x000001E806BA8410>, <__main__.Tuple object at 0x000001E81F8ABED0>, <__main__.Tuple object at 0x000001E81F8ABB90>, <__main__.Tuple object at 0x000001E81F8AB3D0>, <__main__.Tuple object at 0x000001E81F8AB690>, <__main__.Tuple object at 0x000001E81F81A790>, <__main__.Tuple object at 0x000001E81F81A850>, <__main__.Tuple object at 0x000001E81F818390>, <__main__.Tuple object at 0x000001E81F819310>, <__main__.Tuple object at 0x000001E81F81A810>, <__main__.Tuple object at 0x000001E81F819550>, <__main__.Tuple object at 0x000001E81F818350>, <__main__.Tuple object at 0x000001E81F87E710>, <__main__.Tuple object at 0x000001E81F87E490>, <__main__.Tuple object at 0x000001E81F87F650>, <__main__.Tuple object at 0x000001E81F87F190>, <__main__.Tuple object at 0x000001E81F87F310>, <__main__.Tuple object at 0x000001E81F87DD10>, <__main__.Tuple object at 0x000001E81F87E610>, <__main__.Tuple object at 0x000001E81F87DDD0>, <__main__.Tuple object at 0x000001E81F87E790>, <__main__.Tuple object at 0x000001E81F87CCD0>, <__main__.Tuple object at 0x000001E81F87CBD0>, <__main__.Tuple object at 0x000001E81F87EC90>, <__main__.Tuple object at 0x000001E81F87E910>, <__main__.Tuple object at 0x000001E81F87FB90>, <__main__.Tuple object at 0x000001E81F87D650>, <__main__.Tuple object at 0x000001E81F87D790>, <__main__.Tuple object at 0x000001E81F87FD50>, <__main__.Tuple object at 0x000001E81F87EB10>, <__main__.Tuple object at 0x000001E81F87E350>, <__main__.Tuple object at 0x000001E81F87F510>, <__main__.Tuple object at 0x000001E81F87CF90>, <__main__.Tuple object at 0x000001E81F87F590>, <__main__.Tuple object at 0x000001E81F87F890>, <__main__.Tuple object at 0x000001E81F87F390>, <__main__.Tuple object at 0x000001E81F87E310>, <__main__.Tuple object at 0x000001E81F87EA10>, <__main__.Tuple object at 0x000001E81F87ECD0>, <__main__.Tuple object at 0x000001E81F87E250>, <__main__.Tuple object at 0x000001E81F87F790>, <__main__.Tuple object at 0x000001E81F87C550>, <__main__.Tuple object at 0x000001E81F87E6D0>, <__main__.Tuple object at 0x000001E81F87DC90>, <__main__.Tuple object at 0x000001E81F87EA50>, <__main__.Tuple object at 0x000001E81F87C390>, <__main__.Tuple object at 0x000001E81F87EAD0>, <__main__.Tuple object at 0x000001E81F87D5D0>, <__main__.Tuple object at 0x000001E81F87DCD0>, <__main__.Tuple object at 0x000001E81F87F1D0>, <__main__.Tuple object at 0x000001E81F87C890>, <__main__.Tuple object at 0x000001E81F87D3D0>, <__main__.Tuple object at 0x000001E81F87DB10>, <__main__.Tuple object at 0x000001E81F87C350>, <__main__.Tuple object at 0x000001E81F87F250>, <__main__.Tuple object at 0x000001E81F87EDD0>, <__main__.Tuple object at 0x000001E81F87E950>, <__main__.Tuple object at 0x000001E81F87DE90>, <__main__.Tuple object at 0x000001E81F87EBD0>, <__main__.Tuple object at 0x000001E81F87FD10>, <__main__.Tuple object at 0x000001E81F87CD50>, <__main__.Tuple object at 0x000001E81F87DD90>, <__main__.Tuple object at 0x000001E81F87DA90>, <__main__.Tuple object at 0x000001E81F87FF50>, <__main__.Tuple object at 0x000001E81F87E850>, <__main__.Tuple object at 0x000001E81F87E110>, <__main__.Tuple object at 0x000001E81F8302D0>, <__main__.Tuple object at 0x000001E81D22D690>, <__main__.Tuple object at 0x000001E81D22D310>, <__main__.Tuple object at 0x000001E81D22DC90>, <__main__.Tuple object at 0x000001E81D22D8D0>, <__main__.Tuple object at 0x000001E81D22DFD0>, <__main__.Tuple object at 0x000001E81D22DF90>, <__main__.Tuple object at 0x000001E81D22D510>, <__main__.Tuple object at 0x000001E81D22D810>, <__main__.Tuple object at 0x000001E81D22DBD0>, <__main__.Tuple object at 0x000001E81D22E090>, <__main__.Tuple object at 0x000001E81D22DD50>, <__main__.Tuple object at 0x000001E81D22C1D0>, <__main__.Tuple object at 0x000001E81F8140D0>, <__main__.Tuple object at 0x000001E81F817910>, <__main__.Tuple object at 0x000001E81F816BD0>, <__main__.Tuple object at 0x000001E81F816390>, <__main__.Tuple object at 0x000001E81F816C10>, <__main__.Tuple object at 0x000001E81F816D10>, <__main__.Tuple object at 0x000001E81F8155D0>, <__main__.Tuple object at 0x000001E81F814890>, <__main__.Tuple object at 0x000001E81F815C50>, <__main__.Tuple object at 0x000001E81F8163D0>, <__main__.Tuple object at 0x000001E81F815D10>, <__main__.Tuple object at 0x000001E81F8151D0>, <__main__.Tuple object at 0x000001E81F815CD0>, <__main__.Tuple object at 0x000001E81F815F50>, <__main__.Tuple object at 0x000001E81D220410>, <__main__.Tuple object at 0x000001E81D221AD0>, <__main__.Tuple object at 0x000001E81D220B50>, <__main__.Tuple object at 0x000001E81D222B10>, <__main__.Tuple object at 0x000001E806BC0A10>, <__main__.Tuple object at 0x000001E806BC1790>, <__main__.Tuple object at 0x000001E806BC2710>]\n",
            "[(((3, 0), (2, 3), (3, 0)), 1), (((3, 3), (2, 3), (1, 3)), 1), (((2, 1), (0, 2), (3, 1)), 2), (((1, 1), (2, 2), (0, 1)), 1), (((0, 3), (2, 0), (1, 0)), 1), (((0, 0), (2, 3), (1, 3)), 1), (((2, 3), (0, 2), (0, 0)), 1), (((2, 1), (1, 2), (2, 3)), 2), (((2, 1), (1, 3), (2, 1)), 1), (((1, 1), (2, 3), (2, 2)), 1), (((1, 3), (2, 0), (1, 1)), 2), (((2, 2), (1, 3), (2, 0)), 2), (((1, 3), (1, 1), (1, 0)), 1), (((0, 3), (3, 1), (3, 2)), 2), (((0, 0), (3, 1), (0, 2)), 2), (((3, 2), (3, 2), (2, 1)), 1), (((1, 1), (3, 0), (1, 0)), 2), (((0, 0), (3, 2), (0, 1)), 1), (((2, 1), (2, 1), (1, 3)), 2), (((0, 1), (1, 2), (3, 2)), 1), (((3, 0), (2, 3), (0, 3)), 2), (((0, 2), (3, 1), (0, 2)), 2), (((2, 0), (2, 2), (3, 0)), 1), (((1, 0), (3, 1), (1, 2)), 1), (((1, 2), (3, 0), (1, 3)), 1), (((2, 2), (2, 3), (2, 0)), 1), (((0, 3), (2, 2), (3, 1)), 2), (((1, 2), (2, 2), (1, 2)), 1), (((0, 1), (0, 0), (0, 0)), 2), (((2, 1), (2, 2), (1, 0)), 1), (((3, 1), (0, 0), (1, 3)), 2), (((2, 2), (2, 2), (0, 2)), 1), (((1, 3), (0, 3), (0, 0)), 1), (((3, 0), (1, 2), (3, 1)), 1), (((2, 1), (0, 1), (3, 3)), 2), (((2, 0), (0, 2), (0, 3)), 1), (((2, 3), (0, 0), (3, 0)), 1), (((3, 1), (1, 2), (1, 2)), 1), (((1, 0), (3, 3), (3, 3)), 1), (((1, 0), (0, 2), (3, 3)), 1), (((2, 2), (0, 1), (2, 2)), 2), (((1, 1), (0, 1), (3, 2)), 2), (((0, 3), (0, 1), (3, 2)), 1), (((2, 1), (0, 1), (1, 2)), 2), (((1, 0), (3, 0), (2, 0)), 1), (((3, 2), (3, 0), (2, 3)), 1), (((2, 3), (1, 0), (3, 0)), 1), (((2, 2), (2, 1), (2, 1)), 2), (((2, 3), (2, 2), (2, 0)), 1), (((1, 1), (1, 0), (2, 1)), 1), (((2, 2), (0, 1), (2, 3)), 1), (((2, 1), (1, 2), (1, 3)), 2), (((0, 2), (1, 0), (2, 0)), 1), (((0, 2), (1, 2), (3, 3)), 2), (((3, 1), (2, 1), (2, 2)), 1), (((3, 3), (0, 2), (0, 0)), 1), (((2, 0), (2, 3), (0, 1)), 1), (((3, 1), (1, 3), (0, 2)), 1), (((1, 0), (0, 3), (1, 1)), 1), (((1, 2), (2, 1), (0, 0)), 2), (((1, 0), (3, 2), (1, 0)), 2), (((0, 0), (0, 0), (0, 2)), 2), (((2, 2), (3, 3), (1, 3)), 2), (((2, 3), (0, 2), (2, 0)), 1), (((1, 3), (0, 3), (2, 0)), 2), (((1, 0), (3, 3), (3, 2)), 2), (((1, 1), (1, 0), (1, 0)), 2), (((0, 3), (0, 2), (2, 1)), 2), (((3, 0), (3, 1), (3, 3)), 1), (((3, 2), (0, 2), (1, 3)), 2), (((1, 1), (0, 3), (2, 1)), 2), (((2, 3), (0, 0), (2, 3)), 1), (((1, 2), (2, 1), (2, 0)), 2), (((0, 2), (3, 2), (1, 3)), 1), (((1, 0), (0, 2), (0, 0)), 1), (((3, 3), (2, 0), (1, 3)), 2), (((1, 3), (3, 1), (2, 2)), 1), (((1, 3), (3, 3), (0, 0)), 1), (((1, 3), (3, 3), (1, 2)), 1), (((2, 1), (1, 3), (1, 3)), 1), (((0, 1), (3, 2), (2, 2)), 2), (((1, 1), (0, 2), (3, 2)), 1), (((2, 3), (1, 2), (0, 3)), 1), (((3, 2), (2, 3), (0, 2)), 1), (((3, 2), (2, 1), (2, 0)), 1), (((0, 0), (2, 1), (2, 3)), 1), (((3, 3), (2, 2), (2, 3)), 2), (((1, 2), (0, 2), (2, 2)), 2), (((2, 3), (1, 2), (3, 1)), 2), (((0, 0), (3, 3), (0, 3)), 1), (((3, 1), (0, 1), (2, 0)), 2), (((2, 1), (1, 1), (0, 3)), 1), (((0, 3), (2, 3), (3, 3)), 2), (((2, 0), (3, 3), (3, 1)), 1), (((0, 3), (3, 0), (2, 0)), 1), (((1, 1), (3, 3), (1, 3)), 1), (((2, 1), (1, 3), (1, 0)), 2), (((1, 0), (2, 3), (1, 2)), 1), (((1, 2), (0, 1), (2, 1)), 1), (((1, 3), (1, 2), (1, 2)), 1)]\n",
            "[(((3, 0), (2, 3), (3, 0)), [1]), (((3, 3), (2, 3), (1, 3)), [1]), (((2, 1), (0, 2), (3, 1)), [2]), (((1, 1), (2, 2), (0, 1)), [1]), (((0, 3), (2, 0), (1, 0)), [1]), (((0, 0), (2, 3), (1, 3)), [1]), (((2, 3), (0, 2), (0, 0)), [1]), (((2, 1), (1, 2), (2, 3)), [2]), (((2, 1), (1, 3), (2, 1)), [1]), (((1, 1), (2, 3), (2, 2)), [1]), (((1, 3), (2, 0), (1, 1)), [2]), (((2, 2), (1, 3), (2, 0)), [2]), (((1, 3), (1, 1), (1, 0)), [1]), (((0, 3), (3, 1), (3, 2)), [2]), (((0, 0), (3, 1), (0, 2)), [2]), (((3, 2), (3, 2), (2, 1)), [1]), (((1, 1), (3, 0), (1, 0)), [2]), (((0, 0), (3, 2), (0, 1)), [1]), (((2, 1), (2, 1), (1, 3)), [2]), (((0, 1), (1, 2), (3, 2)), [1]), (((3, 0), (2, 3), (0, 3)), [2]), (((0, 2), (3, 1), (0, 2)), [2]), (((2, 0), (2, 2), (3, 0)), [1]), (((1, 0), (3, 1), (1, 2)), [1]), (((1, 2), (3, 0), (1, 3)), [1]), (((2, 2), (2, 3), (2, 0)), [1]), (((0, 3), (2, 2), (3, 1)), [2]), (((1, 2), (2, 2), (1, 2)), [1]), (((0, 1), (0, 0), (0, 0)), [2]), (((2, 1), (2, 2), (1, 0)), [1]), (((3, 1), (0, 0), (1, 3)), [2]), (((2, 2), (2, 2), (0, 2)), [1]), (((1, 3), (0, 3), (0, 0)), [1]), (((3, 0), (1, 2), (3, 1)), [1]), (((2, 1), (0, 1), (3, 3)), [2]), (((2, 0), (0, 2), (0, 3)), [1]), (((2, 3), (0, 0), (3, 0)), [1]), (((3, 1), (1, 2), (1, 2)), [1]), (((1, 0), (3, 3), (3, 3)), [1]), (((1, 0), (0, 2), (3, 3)), [1]), (((2, 2), (0, 1), (2, 2)), [2]), (((1, 1), (0, 1), (3, 2)), [2]), (((0, 3), (0, 1), (3, 2)), [1]), (((2, 1), (0, 1), (1, 2)), [2]), (((1, 0), (3, 0), (2, 0)), [1]), (((3, 2), (3, 0), (2, 3)), [1]), (((2, 3), (1, 0), (3, 0)), [1]), (((2, 2), (2, 1), (2, 1)), [2]), (((2, 3), (2, 2), (2, 0)), [1]), (((1, 1), (1, 0), (2, 1)), [1]), (((2, 2), (0, 1), (2, 3)), [1]), (((2, 1), (1, 2), (1, 3)), [2]), (((0, 2), (1, 0), (2, 0)), [1]), (((0, 2), (1, 2), (3, 3)), [2]), (((3, 1), (2, 1), (2, 2)), [1]), (((3, 3), (0, 2), (0, 0)), [1]), (((2, 0), (2, 3), (0, 1)), [1]), (((3, 1), (1, 3), (0, 2)), [1]), (((1, 0), (0, 3), (1, 1)), [1]), (((1, 2), (2, 1), (0, 0)), [2]), (((1, 0), (3, 2), (1, 0)), [2]), (((0, 0), (0, 0), (0, 2)), [2]), (((2, 2), (3, 3), (1, 3)), [2]), (((2, 3), (0, 2), (2, 0)), [1]), (((1, 3), (0, 3), (2, 0)), [2]), (((1, 0), (3, 3), (3, 2)), [2]), (((1, 1), (1, 0), (1, 0)), [2]), (((0, 3), (0, 2), (2, 1)), [2]), (((3, 0), (3, 1), (3, 3)), [1]), (((3, 2), (0, 2), (1, 3)), [2]), (((1, 1), (0, 3), (2, 1)), [2]), (((2, 3), (0, 0), (2, 3)), [1]), (((1, 2), (2, 1), (2, 0)), [2]), (((0, 2), (3, 2), (1, 3)), [1]), (((1, 0), (0, 2), (0, 0)), [1]), (((3, 3), (2, 0), (1, 3)), [2]), (((1, 3), (3, 1), (2, 2)), [1]), (((1, 3), (3, 3), (0, 0)), [1]), (((1, 3), (3, 3), (1, 2)), [1]), (((2, 1), (1, 3), (1, 3)), [1]), (((0, 1), (3, 2), (2, 2)), [2]), (((1, 1), (0, 2), (3, 2)), [1]), (((2, 3), (1, 2), (0, 3)), [1]), (((3, 2), (2, 3), (0, 2)), [1]), (((3, 2), (2, 1), (2, 0)), [1]), (((0, 0), (2, 1), (2, 3)), [1]), (((3, 3), (2, 2), (2, 3)), [2]), (((1, 2), (0, 2), (2, 2)), [2]), (((2, 3), (1, 2), (3, 1)), [2]), (((0, 0), (3, 3), (0, 3)), [1]), (((3, 1), (0, 1), (2, 0)), [2]), (((2, 1), (1, 1), (0, 3)), [1]), (((0, 3), (2, 3), (3, 3)), [2]), (((2, 0), (3, 3), (3, 1)), [1]), (((0, 3), (3, 0), (2, 0)), [1]), (((1, 1), (3, 3), (1, 3)), [1]), (((2, 1), (1, 3), (1, 0)), [2]), (((1, 0), (2, 3), (1, 2)), [1]), (((1, 2), (0, 1), (2, 1)), [1]), (((1, 3), (1, 2), (1, 2)), [1])]\n",
            "[((3, 0), (2, 3), (3, 0)), ((3, 3), (2, 3), (1, 3)), ((1, 1), (2, 2), (0, 1)), ((0, 3), (2, 0), (1, 0)), ((0, 0), (2, 3), (1, 3)), ((2, 3), (0, 2), (0, 0)), ((2, 1), (1, 3), (2, 1)), ((1, 1), (2, 3), (2, 2)), ((1, 3), (1, 1), (1, 0)), ((3, 2), (3, 2), (2, 1)), ((0, 0), (3, 2), (0, 1)), ((0, 1), (1, 2), (3, 2)), ((2, 0), (2, 2), (3, 0)), ((1, 0), (3, 1), (1, 2)), ((1, 2), (3, 0), (1, 3)), ((2, 2), (2, 3), (2, 0)), ((1, 2), (2, 2), (1, 2)), ((2, 1), (2, 2), (1, 0)), ((2, 2), (2, 2), (0, 2)), ((1, 3), (0, 3), (0, 0)), ((3, 0), (1, 2), (3, 1)), ((2, 0), (0, 2), (0, 3)), ((2, 3), (0, 0), (3, 0)), ((3, 1), (1, 2), (1, 2)), ((1, 0), (3, 3), (3, 3)), ((1, 0), (0, 2), (3, 3)), ((0, 3), (0, 1), (3, 2)), ((1, 0), (3, 0), (2, 0)), ((3, 2), (3, 0), (2, 3)), ((2, 3), (1, 0), (3, 0)), ((2, 3), (2, 2), (2, 0)), ((1, 1), (1, 0), (2, 1)), ((2, 2), (0, 1), (2, 3)), ((0, 2), (1, 0), (2, 0)), ((3, 1), (2, 1), (2, 2)), ((3, 3), (0, 2), (0, 0)), ((2, 0), (2, 3), (0, 1)), ((3, 1), (1, 3), (0, 2)), ((1, 0), (0, 3), (1, 1)), ((2, 3), (0, 2), (2, 0)), ((3, 0), (3, 1), (3, 3)), ((2, 3), (0, 0), (2, 3)), ((0, 2), (3, 2), (1, 3)), ((1, 0), (0, 2), (0, 0)), ((1, 3), (3, 1), (2, 2)), ((1, 3), (3, 3), (0, 0)), ((1, 3), (3, 3), (1, 2)), ((2, 1), (1, 3), (1, 3)), ((1, 1), (0, 2), (3, 2)), ((2, 3), (1, 2), (0, 3)), ((3, 2), (2, 3), (0, 2)), ((3, 2), (2, 1), (2, 0)), ((0, 0), (2, 1), (2, 3)), ((0, 0), (3, 3), (0, 3)), ((2, 1), (1, 1), (0, 3)), ((2, 0), (3, 3), (3, 1)), ((0, 3), (3, 0), (2, 0)), ((1, 1), (3, 3), (1, 3)), ((1, 0), (2, 3), (1, 2)), ((1, 2), (0, 1), (2, 1)), ((1, 3), (1, 2), (1, 2))]\n"
          ]
        }
      ],
      "source": [
        "rels = [1, 2]\n",
        "class Tuple: # класс кортежа, который хранит данные и имя представления из массива rels выше\n",
        "  def __init__(self, data: tuple, rel_id: int):\n",
        "    self.data = data\n",
        "    self.rel_id = rel_id\n",
        "\n",
        "def get_random_tuple(count):\n",
        "  data = tuple([(random.randint(0, 3), random.randint(0, 3)) for i in range(count)])\n",
        "  rel_id = rels[random.randint(0, len(rels) - 1)]\n",
        "  return Tuple(data, rel_id)\n",
        "\n",
        "\n",
        "def RECORDREADER(count):\n",
        "    return [get_random_tuple(3) for i in range(count)]\n",
        "\n",
        "def MAP(t: Tuple):\n",
        "  return (t.data, t.rel_id)\n",
        "\n",
        "def REDUCE(key, values: Iterator[NamedTuple]):\n",
        "  if values == [rels[0]]: # если соответствующее значение является списком  [R] , создайте пару  (t,t)\n",
        "    return (key, key)\n",
        "\n",
        "def group_by_key(iterable):\n",
        "  t = {}\n",
        "  for (k2, v2) in iterable:\n",
        "    t[k2] = t.get(k2, []) + [v2]\n",
        "  return t.items()\n",
        "\n",
        "record = RECORDREADER(100)\n",
        "print(record)\n",
        "map_output = list(map(lambda x: MAP(x), RECORDREADER(100)))\n",
        "print(map_output)\n",
        "\n",
        "shuffle_output = group_by_key(map_output)\n",
        "shuffle_output = list(shuffle_output)\n",
        "\n",
        "print(shuffle_output)\n",
        "\n",
        "reduce_output = [el[0] for el in list(map(lambda x: REDUCE(*x), shuffle_output)) if el is not None]\n",
        "print(reduce_output)"
      ]
    },
    {
      "cell_type": "markdown",
      "metadata": {
        "id": "j8I58V2VwhSm"
      },
      "source": [
        "### Natural Join\n",
        "\n",
        "**The Map Function:** Для каждого кортежа $(a, b)$ отношения $R$, создайте пару $(b,(R, a))$. Для каждого кортежа $(b, c)$ отношения $S$, создайте пару $(b,(S, c))$.\n",
        "\n",
        "**The Reduce Function:** Каждый ключ $b$ будет асоциирован со списком пар, которые принимают форму либо $(R, a)$, либо $(S, c)$. Создайте все пары, одни, состоящие из  первого компонента $R$, а другие, из первого компонента $S$, то есть $(R, a)$ и $(S, c)$. На выходе вы получаете последовательность пар ключ-значение из списков ключей и значений. Ключ не нужен. Каждое значение, это тройка $(a, b, c)$ такая, что $(R, a)$ и $(S, c)$ это принадлежат входному списку значений."
      ]
    },
    {
      "cell_type": "code",
      "execution_count": 62,
      "metadata": {
        "id": "yHiuuTctw86I"
      },
      "outputs": [
        {
          "name": "stdout",
          "output_type": "stream",
          "text": [
            "[<__main__.Tuple object at 0x000001E81F819810>, <__main__.Tuple object at 0x000001E806BC0F90>, <__main__.Tuple object at 0x000001E81F819DD0>, <__main__.Tuple object at 0x000001E81F8C9ED0>, <__main__.Tuple object at 0x000001E81F8C8F90>, <__main__.Tuple object at 0x000001E81F8CAC90>, <__main__.Tuple object at 0x000001E81F8CAA90>, <__main__.Tuple object at 0x000001E81F8C9950>, <__main__.Tuple object at 0x000001E81F8C86D0>, <__main__.Tuple object at 0x000001E81F8C9BD0>, <__main__.Tuple object at 0x000001E81F8C8650>, <__main__.Tuple object at 0x000001E81F8C8610>, <__main__.Tuple object at 0x000001E81F8C8390>, <__main__.Tuple object at 0x000001E81F8C8450>, <__main__.Tuple object at 0x000001E81F8C84D0>, <__main__.Tuple object at 0x000001E81F8C8550>, <__main__.Tuple object at 0x000001E81F8C8590>, <__main__.Tuple object at 0x000001E81F8C8510>, <__main__.Tuple object at 0x000001E81F8C8490>, <__main__.Tuple object at 0x000001E81F8C8410>, <__main__.Tuple object at 0x000001E81F8C8350>, <__main__.Tuple object at 0x000001E81F8C8090>, <__main__.Tuple object at 0x000001E81F8C8110>, <__main__.Tuple object at 0x000001E81F8C8190>, <__main__.Tuple object at 0x000001E81F8C8150>, <__main__.Tuple object at 0x000001E81F8C8290>, <__main__.Tuple object at 0x000001E81F8C8050>, <__main__.Tuple object at 0x000001E81F8C8710>, <__main__.Tuple object at 0x000001E81F8C8B50>, <__main__.Tuple object at 0x000001E81F8C8B10>, <__main__.Tuple object at 0x000001E81F8C8AD0>, <__main__.Tuple object at 0x000001E81F8C8A50>, <__main__.Tuple object at 0x000001E81F8C8A10>, <__main__.Tuple object at 0x000001E81F8C8A90>, <__main__.Tuple object at 0x000001E81F8C8790>, <__main__.Tuple object at 0x000001E81F8C8810>, <__main__.Tuple object at 0x000001E81F8C8850>, <__main__.Tuple object at 0x000001E81F8CA3D0>, <__main__.Tuple object at 0x000001E81F8CA7D0>, <__main__.Tuple object at 0x000001E81F8CAA50>, <__main__.Tuple object at 0x000001E81F8CAB50>, <__main__.Tuple object at 0x000001E81F8CAAD0>, <__main__.Tuple object at 0x000001E81F8CA990>, <__main__.Tuple object at 0x000001E81F8CAB90>, <__main__.Tuple object at 0x000001E81F8CACD0>, <__main__.Tuple object at 0x000001E81F8CAD10>, <__main__.Tuple object at 0x000001E81F8CAD50>, <__main__.Tuple object at 0x000001E81F8CAD90>, <__main__.Tuple object at 0x000001E81F8CADD0>, <__main__.Tuple object at 0x000001E81F8CAE10>, <__main__.Tuple object at 0x000001E81F8CAE50>, <__main__.Tuple object at 0x000001E81F8CAE90>, <__main__.Tuple object at 0x000001E81F8CAED0>, <__main__.Tuple object at 0x000001E81F8CAF10>, <__main__.Tuple object at 0x000001E81F8CAF50>, <__main__.Tuple object at 0x000001E81F8CAF90>, <__main__.Tuple object at 0x000001E81F8CAFD0>, <__main__.Tuple object at 0x000001E81F8CB010>, <__main__.Tuple object at 0x000001E81F8CB050>, <__main__.Tuple object at 0x000001E81F8CB090>, <__main__.Tuple object at 0x000001E81F8CB0D0>, <__main__.Tuple object at 0x000001E81F8CB110>, <__main__.Tuple object at 0x000001E81F8CB150>, <__main__.Tuple object at 0x000001E81F8CB190>, <__main__.Tuple object at 0x000001E81F8CB1D0>, <__main__.Tuple object at 0x000001E81F8CB210>, <__main__.Tuple object at 0x000001E81F8CB250>, <__main__.Tuple object at 0x000001E81F8CB290>, <__main__.Tuple object at 0x000001E81F8CB2D0>, <__main__.Tuple object at 0x000001E81F8CB310>, <__main__.Tuple object at 0x000001E81F8CB350>, <__main__.Tuple object at 0x000001E81F8CB390>, <__main__.Tuple object at 0x000001E81F8CB3D0>, <__main__.Tuple object at 0x000001E81F8CB410>, <__main__.Tuple object at 0x000001E81F8CB450>, <__main__.Tuple object at 0x000001E81F8CB490>, <__main__.Tuple object at 0x000001E81F8CB4D0>, <__main__.Tuple object at 0x000001E81F8CB510>, <__main__.Tuple object at 0x000001E81F8CB550>, <__main__.Tuple object at 0x000001E81F8CB590>, <__main__.Tuple object at 0x000001E81F8CB610>, <__main__.Tuple object at 0x000001E81F8CB650>, <__main__.Tuple object at 0x000001E81F8CB690>, <__main__.Tuple object at 0x000001E81F8CB6D0>, <__main__.Tuple object at 0x000001E81F8CB710>, <__main__.Tuple object at 0x000001E81F8CB750>, <__main__.Tuple object at 0x000001E81F8CB790>, <__main__.Tuple object at 0x000001E81F8CB7D0>, <__main__.Tuple object at 0x000001E81F8CB810>, <__main__.Tuple object at 0x000001E81F8CB850>, <__main__.Tuple object at 0x000001E81F8CB890>, <__main__.Tuple object at 0x000001E81F8CB8D0>, <__main__.Tuple object at 0x000001E81F8CB910>, <__main__.Tuple object at 0x000001E81F8CB5D0>, <__main__.Tuple object at 0x000001E81F8CB950>, <__main__.Tuple object at 0x000001E81F8CB990>, <__main__.Tuple object at 0x000001E81F8CBA50>, <__main__.Tuple object at 0x000001E81F8CB9D0>, <__main__.Tuple object at 0x000001E81F8CBA90>, <__main__.Tuple object at 0x000001E81F8CBAD0>]\n",
            "[(1, (1, 0)), (0, (1, 0)), (1, (2, 2)), (1, (2, 0)), (1, (1, 2)), (0, (1, 2)), (1, (2, 0)), (0, (1, 1)), (0, (2, 1)), (1, (1, 0)), (3, (1, 2)), (0, (2, 0)), (0, (1, 2)), (1, (2, 3)), (0, (2, 1)), (1, (2, 2)), (3, (1, 1)), (3, (1, 3)), (2, (1, 0)), (3, (2, 1)), (2, (2, 2)), (2, (2, 1)), (1, (1, 3)), (3, (2, 1)), (1, (2, 3)), (1, (1, 2)), (0, (2, 2)), (2, (2, 0)), (1, (2, 2)), (3, (2, 1)), (3, (2, 3)), (0, (2, 0)), (0, (1, 0)), (2, (2, 0)), (3, (1, 3)), (1, (1, 2)), (0, (1, 0)), (0, (1, 2)), (0, (1, 0)), (3, (1, 1)), (0, (1, 2)), (3, (1, 1)), (2, (2, 1)), (1, (1, 2)), (3, (1, 2)), (2, (2, 1)), (3, (2, 1)), (3, (2, 0)), (3, (1, 2)), (2, (2, 3)), (0, (1, 2)), (1, (2, 3)), (0, (1, 0)), (1, (1, 2)), (2, (2, 1)), (1, (1, 0)), (3, (2, 2)), (3, (2, 3)), (3, (2, 3)), (3, (2, 2)), (0, (1, 3)), (3, (1, 3)), (2, (1, 3)), (2, (2, 2)), (2, (1, 1)), (0, (2, 3)), (1, (1, 1)), (1, (2, 1)), (2, (1, 0)), (2, (2, 0)), (3, (1, 0)), (3, (1, 2)), (0, (1, 3)), (3, (1, 2)), (1, (1, 3)), (2, (1, 1)), (3, (1, 2)), (0, (2, 1)), (0, (2, 3)), (1, (1, 2)), (0, (2, 0)), (2, (1, 3)), (1, (1, 0)), (0, (1, 3)), (2, (2, 3)), (1, (1, 2)), (1, (2, 3)), (1, (1, 1)), (2, (1, 3)), (1, (1, 2)), (3, (2, 0)), (2, (1, 1)), (0, (1, 2)), (0, (2, 2)), (0, (2, 0)), (3, (1, 3)), (1, (1, 0)), (3, (1, 1)), (1, (1, 3)), (3, (1, 1))]\n",
            "[(1, [(1, 0), (2, 2), (2, 0), (1, 2), (2, 0), (1, 0), (2, 3), (2, 2), (1, 3), (2, 3), (1, 2), (2, 2), (1, 2), (1, 2), (2, 3), (1, 2), (1, 0), (1, 1), (2, 1), (1, 3), (1, 2), (1, 0), (1, 2), (2, 3), (1, 1), (1, 2), (1, 0), (1, 3)]), (0, [(1, 0), (1, 2), (1, 1), (2, 1), (2, 0), (1, 2), (2, 1), (2, 2), (2, 0), (1, 0), (1, 0), (1, 2), (1, 0), (1, 2), (1, 2), (1, 0), (1, 3), (2, 3), (1, 3), (2, 1), (2, 3), (2, 0), (1, 3), (1, 2), (2, 2), (2, 0)]), (3, [(1, 2), (1, 1), (1, 3), (2, 1), (2, 1), (2, 1), (2, 3), (1, 3), (1, 1), (1, 1), (1, 2), (2, 1), (2, 0), (1, 2), (2, 2), (2, 3), (2, 3), (2, 2), (1, 3), (1, 0), (1, 2), (1, 2), (1, 2), (2, 0), (1, 3), (1, 1), (1, 1)]), (2, [(1, 0), (2, 2), (2, 1), (2, 0), (2, 0), (2, 1), (2, 1), (2, 3), (2, 1), (1, 3), (2, 2), (1, 1), (1, 0), (2, 0), (1, 1), (1, 3), (2, 3), (1, 3), (1, 1)])]\n",
            "[[(1, 1, 0), (2, 1, 2), (2, 1, 0), (1, 1, 2), (2, 1, 0), (1, 1, 0), (2, 1, 3), (2, 1, 2), (1, 1, 3), (2, 1, 3), (1, 1, 2), (2, 1, 2), (1, 1, 2), (1, 1, 2), (2, 1, 3), (1, 1, 2), (1, 1, 0), (1, 1, 1), (2, 1, 1), (1, 1, 3), (1, 1, 2), (1, 1, 0), (1, 1, 2), (2, 1, 3), (1, 1, 1), (1, 1, 2), (1, 1, 0), (1, 1, 3)], [(1, 0, 0), (1, 0, 2), (1, 0, 1), (2, 0, 1), (2, 0, 0), (1, 0, 2), (2, 0, 1), (2, 0, 2), (2, 0, 0), (1, 0, 0), (1, 0, 0), (1, 0, 2), (1, 0, 0), (1, 0, 2), (1, 0, 2), (1, 0, 0), (1, 0, 3), (2, 0, 3), (1, 0, 3), (2, 0, 1), (2, 0, 3), (2, 0, 0), (1, 0, 3), (1, 0, 2), (2, 0, 2), (2, 0, 0)], [(1, 3, 2), (1, 3, 1), (1, 3, 3), (2, 3, 1), (2, 3, 1), (2, 3, 1), (2, 3, 3), (1, 3, 3), (1, 3, 1), (1, 3, 1), (1, 3, 2), (2, 3, 1), (2, 3, 0), (1, 3, 2), (2, 3, 2), (2, 3, 3), (2, 3, 3), (2, 3, 2), (1, 3, 3), (1, 3, 0), (1, 3, 2), (1, 3, 2), (1, 3, 2), (2, 3, 0), (1, 3, 3), (1, 3, 1), (1, 3, 1)], [(1, 2, 0), (2, 2, 2), (2, 2, 1), (2, 2, 0), (2, 2, 0), (2, 2, 1), (2, 2, 1), (2, 2, 3), (2, 2, 1), (1, 2, 3), (2, 2, 2), (1, 2, 1), (1, 2, 0), (2, 2, 0), (1, 2, 1), (1, 2, 3), (2, 2, 3), (1, 2, 3), (1, 2, 1)]]\n"
          ]
        }
      ],
      "source": [
        "rels = [1, 2]\n",
        "class Tuple: # класс кортежа, который хранит данные и имя представления из массива rels выше\n",
        "  def __init__(self, data: tuple, rel_id: int):\n",
        "    self.data = data\n",
        "    self.rel_id = rel_id\n",
        "\n",
        "def get_random_tuple():\n",
        "  data = (random.randint(0, 3), random.randint(0, 3))\n",
        "  rel_id = rels[random.randint(0, len(rels) - 1)]\n",
        "  return Tuple(data, rel_id)\n",
        "\n",
        "\n",
        "def RECORDREADER(count):\n",
        "  return [get_random_tuple() for i in range(count)]\n",
        "\n",
        "def MAP(t: Tuple):\n",
        "  if t.rel_id == rels[0]:\n",
        "    return (t.data[1], (t.rel_id, t.data[0]))\n",
        "  else:\n",
        "    return (t.data[0], (t.rel_id, t.data[1]))\n",
        "\n",
        "def REDUCE(key, values: Iterator[NamedTuple]):\n",
        "  res = []\n",
        "  for v in values:\n",
        "    res.append((v[0], key, v[1]))\n",
        "  return res\n",
        "\n",
        "def group_by_key(iterable):\n",
        "  t = {}\n",
        "  for (k2, v2) in iterable:\n",
        "    t[k2] = t.get(k2, []) + [v2]\n",
        "  return t.items()\n",
        "\n",
        "record = RECORDREADER(100)\n",
        "print(record)\n",
        "map_output = list(map(lambda x: MAP(x), RECORDREADER(100)))\n",
        "print(map_output)\n",
        "\n",
        "shuffle_output = group_by_key(map_output)\n",
        "shuffle_output = list(shuffle_output)\n",
        "\n",
        "print(shuffle_output)\n",
        "\n",
        "reduce_output = list(map(lambda x: REDUCE(*x), shuffle_output))\n",
        "print(reduce_output)"
      ]
    },
    {
      "cell_type": "markdown",
      "metadata": {
        "id": "kYdlr0YUxE27"
      },
      "source": [
        "### Grouping and Aggregation (Группировка и аггрегация)\n",
        "\n",
        "**The Map Function:** Для каждого кортежа $(a, b, c$) создайте пару $(a, b)$.\n",
        "\n",
        "**The Reduce Function:** Ключ представляет ту или иную группу. Примение аггрегирующую операцию $\\theta$ к списку значений $[b1, b2, . . . , bn]$ ассоциированных с ключом $a$. Возвращайте в выходной поток $(a, x)$, где $x$ результат применения  $\\theta$ к списку. Например, если $\\theta$ это $SUM$, тогда $x = b1 + b2 + · · · + bn$, а если $\\theta$ is $MAX$, тогда $x$ это максимальное из значений $b1, b2, . . . , bn$."
      ]
    },
    {
      "cell_type": "code",
      "execution_count": 63,
      "metadata": {
        "id": "MLPckfEGxico"
      },
      "outputs": [
        {
          "name": "stdout",
          "output_type": "stream",
          "text": [
            "[(0, 3, 1), (1, 2, 3), (1, 1, 2), (2, 2, 2), (0, 2, 0), (1, 2, 0), (0, 0, 1), (3, 0, 3), (2, 0, 0), (3, 1, 0), (0, 0, 0), (2, 1, 0), (0, 2, 2), (0, 2, 0), (0, 2, 3), (2, 2, 3), (1, 0, 1), (3, 0, 0), (0, 0, 2), (0, 0, 2), (0, 3, 2), (1, 0, 2), (0, 0, 1), (2, 3, 3), (1, 0, 0), (0, 3, 0), (3, 2, 0), (0, 3, 3), (3, 2, 2), (1, 0, 1), (0, 1, 1), (2, 1, 2), (0, 1, 2), (2, 2, 1), (2, 1, 1), (0, 2, 0), (0, 0, 2), (0, 0, 1), (3, 1, 2), (3, 1, 2), (3, 2, 0), (3, 1, 0), (2, 0, 2), (3, 2, 3), (2, 0, 3), (0, 3, 0), (3, 3, 1), (1, 2, 0), (0, 1, 3), (2, 1, 3), (3, 3, 3), (3, 0, 1), (0, 0, 1), (3, 0, 3), (0, 0, 1), (2, 0, 1), (3, 1, 3), (1, 2, 0), (1, 2, 2), (2, 1, 2), (1, 3, 3), (2, 1, 2), (2, 1, 0), (2, 1, 1), (2, 1, 0), (1, 1, 1), (0, 2, 1), (1, 3, 0), (3, 2, 1), (2, 1, 0), (3, 0, 2), (1, 1, 3), (0, 1, 0), (3, 3, 1), (2, 1, 0), (3, 3, 3), (3, 1, 0), (3, 1, 0), (3, 1, 0), (3, 3, 3), (3, 0, 3), (1, 1, 0), (1, 2, 1), (1, 3, 1), (3, 0, 0), (2, 2, 1), (3, 1, 0), (1, 2, 2), (1, 1, 2), (1, 0, 1), (3, 3, 0), (2, 0, 3), (0, 1, 2), (0, 3, 2), (1, 1, 1), (1, 1, 0), (1, 2, 1), (3, 0, 0), (0, 0, 0), (2, 0, 0)]\n",
            "[(0, 1), (1, 1), (3, 2), (2, 2), (3, 2), (0, 0), (1, 2), (3, 3), (1, 0), (2, 2), (3, 0), (1, 1), (3, 1), (2, 0), (1, 1), (0, 0), (2, 0), (1, 2), (3, 3), (2, 0), (1, 2), (2, 2), (0, 3), (0, 0), (1, 0), (1, 2), (2, 2), (3, 0), (2, 3), (1, 0), (3, 2), (3, 3), (3, 1), (3, 1), (0, 1), (0, 0), (0, 0), (2, 1), (0, 3), (0, 1), (2, 0), (1, 3), (0, 1), (1, 3), (2, 2), (0, 3), (0, 3), (2, 1), (3, 2), (3, 2), (0, 3), (2, 3), (3, 2), (3, 0), (0, 3), (1, 1), (0, 1), (2, 0), (1, 0), (1, 3), (1, 2), (2, 1), (3, 1), (2, 2), (3, 0), (1, 1), (3, 3), (0, 2), (2, 0), (0, 1), (0, 1), (2, 0), (2, 1), (3, 2), (0, 1), (1, 0), (0, 2), (1, 0), (1, 1), (1, 1), (1, 2), (0, 1), (0, 3), (0, 1), (2, 0), (0, 2), (3, 2), (1, 0), (3, 1), (0, 0), (3, 0), (1, 1), (0, 0), (1, 0), (3, 0), (1, 1), (1, 3), (3, 1), (2, 3), (2, 3)]\n",
            "[(0, [1, 0, 0, 3, 0, 1, 0, 0, 3, 1, 1, 3, 3, 3, 3, 1, 2, 1, 1, 1, 2, 1, 3, 1, 2, 0, 0]), (1, [1, 2, 0, 1, 1, 2, 2, 0, 2, 0, 3, 3, 1, 0, 3, 2, 1, 0, 0, 1, 1, 2, 0, 1, 0, 1, 3]), (3, [2, 2, 3, 0, 1, 3, 0, 2, 3, 1, 1, 2, 2, 2, 0, 1, 0, 3, 2, 2, 1, 0, 0, 1]), (2, [2, 2, 0, 0, 0, 2, 2, 3, 1, 0, 2, 1, 3, 0, 1, 2, 0, 0, 1, 0, 3, 3])]\n",
            "[(0, 37), (1, 33), (3, 34), (2, 28)]\n"
          ]
        }
      ],
      "source": [
        "def get_random_tuple():\n",
        "  return (random.randint(0, 3), random.randint(0, 3), random.randint(0, 3))\n",
        "\n",
        "def RECORDREADER(count):\n",
        "  return [get_random_tuple() for i in range(count)]\n",
        "\n",
        "def MAP(t: Tuple):\n",
        "  return (t[0], t[1])\n",
        "\n",
        "def tetta(values):\n",
        "  return sum(values)\n",
        "\n",
        "\n",
        "def REDUCE(key, values: Iterator[NamedTuple]):\n",
        "  x = tetta(values)\n",
        "  return (key, x)\n",
        "\n",
        "def group_by_key(iterable):\n",
        "  t = {}\n",
        "  for (k2, v2) in iterable:\n",
        "    t[k2] = t.get(k2, []) + [v2]\n",
        "  return t.items()\n",
        "\n",
        "record = RECORDREADER(100)\n",
        "print(record)\n",
        "map_output = list(map(lambda x: MAP(x), RECORDREADER(100)))\n",
        "print(map_output)\n",
        "\n",
        "shuffle_output = group_by_key(map_output)\n",
        "shuffle_output = list(shuffle_output)\n",
        "\n",
        "print(shuffle_output)\n",
        "\n",
        "reduce_output = list(map(lambda x: REDUCE(*x), shuffle_output))\n",
        "print(reduce_output)"
      ]
    },
    {
      "cell_type": "markdown",
      "metadata": {
        "id": "03IffTEOJgOb"
      },
      "source": [
        "# "
      ]
    },
    {
      "cell_type": "markdown",
      "metadata": {
        "id": "IIrRgvG4RIS4"
      },
      "source": [
        "### Matrix-Vector multiplication\n",
        "\n",
        "Случай, когда вектор не помещается в памяти Map задачи\n"
      ]
    },
    {
      "cell_type": "code",
      "execution_count": null,
      "metadata": {
        "id": "KQhDbiL3zS9r"
      },
      "outputs": [],
      "source": []
    },
    {
      "cell_type": "markdown",
      "metadata": {
        "id": "GIo2t7nNxvA9"
      },
      "source": [
        "## Matrix multiplication (Перемножение матриц)\n",
        "\n",
        "Если у нас есть матрица $M$ с элементами $m_{ij}$ в строке $i$ и столбце $j$, и матрица $N$ с элементами $n_{jk}$ в строке $j$ и столбце $k$, тогда их произведение $P = MN$ есть матрица $P$ с элементами $p_{ik}$ в строке $i$ и столбце $k$, где\n",
        "\n",
        "$$p_{ik} =\\sum_{j} m_{ij}n_{jk}$$\n",
        "\n",
        "Необходимым требованием является одинаковое количество столбцов в $M$ и строк в $N$, чтобы операция суммирования по  $j$ была осмысленной. Мы можем размышлять о матрице, как об отношении с тремя атрибутами: номер строки, номер столбца, само значение. Таким образом матрица $M$ предстваляется как отношение $ M(I, J, V )$, с кортежами $(i, j, m_{ij})$, и, аналогично, матрица $N$ представляется как отношение $N(J, K, W)$, с кортежами $(j, k, n_{jk})$. Так как большие матрицы как правило разреженные (большинство значений равно 0), и так как мы можем нулевыми значениями пренебречь (не хранить), такое реляционное представление достаточно эффективно для больших матриц. Однако, возможно, что координаты $i$, $j$, и $k$ неявно закодированы в смещение позиции элемента относительно начала файла, вместо явного хранения. Тогда, функция Map (или Reader) должна быть разработана таким образом, чтобы реконструировать компоненты $I$, $J$, и $K$ кортежей из смещения.\n",
        "\n",
        "Произведение $MN$ это фактически join, за которым следуют группировка по ключу и аггрегация. Таким образом join отношений $M(I, J, V )$ и $N(J, K, W)$, имеющих общим только атрибут $J$, создаст кортежи $(i, j, k, v, w)$ из каждого кортежа $(i, j, v) \\in M$ и кортежа $(j, k, w) \\in N$. Такой 5 компонентный кортеж представляет пару элементов матрицы $(m_{ij} , n_{jk})$. Что нам хотелось бы получить на самом деле, это произведение этих элементов, то есть, 4 компонентный кортеж$(i, j, k, v \\times w)$, так как он представляет произведение $m_{ij}n_{jk}$. Мы представляем отношение как результат одной MapReduce операции, в которой мы можем произвести группировку и аггрегацию, с $I$ и $K$  атрибутами, по которым идёт группировка, и суммой  $V \\times W$. \n",
        "\n",
        "\n",
        "\n"
      ]
    },
    {
      "cell_type": "code",
      "execution_count": 64,
      "metadata": {
        "id": "1MBkGaLAYVCt"
      },
      "outputs": [],
      "source": [
        "# MapReduce model\n",
        "def flatten(nested_iterable):\n",
        "  for iterable in nested_iterable:\n",
        "    for element in iterable:\n",
        "      yield element\n",
        "\n",
        "def groupbykey(iterable):\n",
        "  t = {}\n",
        "  for (k2, v2) in iterable:\n",
        "    t[k2] = t.get(k2, []) + [v2]\n",
        "  return t.items()\n",
        "\n",
        "def MapReduce(RECORDREADER, MAP, REDUCE):\n",
        "  return flatten(map(lambda x: REDUCE(*x), groupbykey(flatten(map(lambda x: MAP(*x), RECORDREADER())))))"
      ]
    },
    {
      "cell_type": "markdown",
      "metadata": {
        "id": "sMspsOT0ZB35"
      },
      "source": [
        "Реализуйте перемножение матриц с использованием модельного кода MapReduce для одной машины в случае, когда одна матрица хранится в памяти, а другая генерируется RECORDREADER-ом."
      ]
    },
    {
      "cell_type": "code",
      "execution_count": 65,
      "metadata": {
        "id": "psP1XekbsEjS"
      },
      "outputs": [],
      "source": [
        "\n",
        "import numpy as np\n",
        "I = 2\n",
        "J = 3\n",
        "K = 4*10\n",
        "small_mat = np.random.rand(I,J) # it is legal to access this from RECORDREADER, MAP, REDUCE\n",
        "big_mat = np.random.rand(J,K)\n",
        "\n",
        "def RECORDREADER():\n",
        "  for j in range(big_mat.shape[0]):\n",
        "    for k in range(big_mat.shape[1]):\n",
        "      yield ((j, k), big_mat[j,k])\n",
        "\n",
        "def MAP(k1, v1):\n",
        "  (j, k) = k1\n",
        "  w = v1\n",
        "  for i in range(small_mat.shape[0]):\n",
        "    yield ((i, k), w * small_mat[i][j])\n",
        "\n",
        "def REDUCE(key, values):\n",
        "  (i, k) = key\n",
        "  el_value = 0\n",
        "  for v in values:\n",
        "    el_value += v\n",
        "  yield ((i, k), el_value)"
      ]
    },
    {
      "cell_type": "markdown",
      "metadata": {
        "id": "rnt306LHhHrm"
      },
      "source": [
        "Проверьте своё решение"
      ]
    },
    {
      "cell_type": "code",
      "execution_count": 66,
      "metadata": {
        "colab": {
          "base_uri": "https://localhost:8080/",
          "height": 34
        },
        "id": "Ewy_ZNYqW5a2",
        "outputId": "9ce264f2-9412-44e2-9b0a-cc780573ab3a"
      },
      "outputs": [
        {
          "data": {
            "text/plain": [
              "True"
            ]
          },
          "execution_count": 66,
          "metadata": {},
          "output_type": "execute_result"
        }
      ],
      "source": [
        "# CHECK THE SOLUTION\n",
        "reference_solution = np.matmul(small_mat, big_mat) \n",
        "solution = MapReduce(RECORDREADER, MAP, REDUCE)\n",
        "\n",
        "def asmatrix(reduce_output):\n",
        "  reduce_output = list(reduce_output)\n",
        "  I = max(i for ((i,k), vw) in reduce_output)+1\n",
        "  K = max(k for ((i,k), vw) in reduce_output)+1\n",
        "  mat = np.empty(shape=(I,K))\n",
        "  for ((i,k), vw) in reduce_output:\n",
        "    mat[i,k] = vw\n",
        "  return mat\n",
        "\n",
        "np.allclose(reference_solution, asmatrix(solution)) # should return true"
      ]
    },
    {
      "cell_type": "code",
      "execution_count": 67,
      "metadata": {
        "colab": {
          "base_uri": "https://localhost:8080/",
          "height": 34
        },
        "id": "TK7v4CEcfxqf",
        "outputId": "2c865d0a-4065-4e6b-c83f-5508ed5eb4fa"
      },
      "outputs": [
        {
          "data": {
            "text/plain": [
              "1"
            ]
          },
          "execution_count": 67,
          "metadata": {},
          "output_type": "execute_result"
        }
      ],
      "source": [
        "reduce_output = list(MapReduce(RECORDREADER, MAP, REDUCE))\n",
        "max(i for ((i,k), vw) in reduce_output)"
      ]
    },
    {
      "cell_type": "markdown",
      "metadata": {
        "id": "i4yyg3kOZqJJ"
      },
      "source": [
        "Реализуйте перемножение матриц  с использованием модельного кода MapReduce для одной машины в случае, когда обе матрицы генерируются в RECORDREADER. Например, сначала одна, а потом другая."
      ]
    },
    {
      "cell_type": "code",
      "execution_count": 68,
      "metadata": {
        "id": "3B7rIAJCaHZq"
      },
      "outputs": [
        {
          "data": {
            "text/plain": [
              "True"
            ]
          },
          "execution_count": 68,
          "metadata": {},
          "output_type": "execute_result"
        }
      ],
      "source": [
        "import numpy as np\n",
        "I = 2\n",
        "J = 3\n",
        "K = 4*10\n",
        "small_mat = np.random.rand(I,J)\n",
        "big_mat = np.random.rand(J,K)\n",
        "reference_solution = np.matmul(small_mat, big_mat)\n",
        "\n",
        "def RECORDREADER():\n",
        "  for i in range(small_mat.shape[0]):\n",
        "    for j in range(small_mat.shape[1]):\n",
        "      yield ((0, i, j), small_mat[i,j]) # первая матрица\n",
        "\n",
        "  for j in range(big_mat.shape[0]):\n",
        "    for k in range(big_mat.shape[1]):\n",
        "      yield ((1, j, k), big_mat[j,k]) # вторая матрица\n",
        "\n",
        "def MAP_JOIN(k1, v1):\n",
        "  (mat_num, i, j) = k1\n",
        "  w = v1\n",
        "  if mat_num == 0:\n",
        "    yield (j, (mat_num, i, w))\n",
        "  else:\n",
        "    yield (i, (mat_num, j, w))\n",
        "\n",
        "\n",
        "def REDUCE_JOIN(key, values):\n",
        "  from_first_mat = [v for v in values if v[0] == 0]\n",
        "  from_second_mat = [v for v in values if v[0] == 1]\n",
        "  for f in from_first_mat:\n",
        "    for s in from_second_mat:\n",
        "      yield ((f[1], s[1]), f[2] * s[2])\n",
        "\n",
        "\n",
        "def MAP_MUL(k1, v1):\n",
        "  (i, k) = k1\n",
        "  yield ((i, k), v1)\n",
        "\n",
        "\n",
        "def REDUCE_MUL(key, values):\n",
        "  res_el_value = 0\n",
        "  for v in values:\n",
        "    res_el_value += v\n",
        "  yield (key, res_el_value)\n",
        "\n",
        "\n",
        "def GET_JOINED():\n",
        "  for j in joined:\n",
        "    yield j\n",
        "\n",
        "joined = MapReduce(RECORDREADER, MAP_JOIN, REDUCE_JOIN)\n",
        "solution = MapReduce(GET_JOINED, MAP_MUL, REDUCE_MUL)\n",
        "np.allclose(reference_solution, asmatrix(solution)) # should return true"
      ]
    },
    {
      "cell_type": "markdown",
      "metadata": {
        "id": "mXyzQi1DaIwo"
      },
      "source": [
        "Реализуйте перемножение матриц с использованием модельного кода MapReduce Distributed, когда каждая матрица генерируется в своём RECORDREADER. "
      ]
    },
    {
      "cell_type": "code",
      "execution_count": 69,
      "metadata": {
        "id": "TDM_s78Rb5eR"
      },
      "outputs": [
        {
          "name": "stdout",
          "output_type": "stream",
          "text": [
            "240 key-value pairs were sent over a network.\n",
            "[[0.65865836 0.46910048 0.78355395 0.53554272 0.27875415 0.59131802\n",
            "  0.24531517 0.87775698 0.67908995 0.58657848 0.32353139 0.10471164\n",
            "  0.57846975 0.65680141 0.7286292  0.56115401 0.64288319 0.88498144\n",
            "  0.77388339 0.70485128 0.11951504 0.10914563 0.8251213  0.63133299\n",
            "  0.28963505 0.54815588 0.38681736 0.51183813 0.66725458 0.32372938\n",
            "  0.54749907 0.18051246 0.93698647 0.87660546 0.71585815 0.59174882\n",
            "  0.49985123 0.68750673 0.23421548 0.57175287]\n",
            " [0.74332642 0.49137643 0.77152082 0.55457369 0.27597359 0.65968644\n",
            "  0.30422072 0.8744454  0.689904   0.61780447 0.34943198 0.13364368\n",
            "  0.58318262 0.64887492 0.74532945 0.5882953  0.76609483 0.96513948\n",
            "  0.82279681 0.68068651 0.12105031 0.11402273 0.88068795 0.67318379\n",
            "  0.33671756 0.49439802 0.38744228 0.51597437 0.63817548 0.37657653\n",
            "  0.56333815 0.21413891 0.92684016 0.86451021 0.78588529 0.62885953\n",
            "  0.56066641 0.68234669 0.26063563 0.65066723]]\n"
          ]
        },
        {
          "data": {
            "text/plain": [
              "True"
            ]
          },
          "execution_count": 69,
          "metadata": {},
          "output_type": "execute_result"
        }
      ],
      "source": [
        "maps = 2\n",
        "reducers = 2\n",
        "\n",
        "\n",
        "def INPUTFORMAT():\n",
        "    global maps\n",
        "\n",
        "    # Так же, как и раньше, генерируются пары элементов из обоих матриц\n",
        "    def RECORDREADER(i_range):\n",
        "        for i in i_range:\n",
        "            for j in range(J):\n",
        "                for k in range(K):\n",
        "                    yield (((i, j), small_mat[i, j]), ((j, k), big_mat[j, k]))\n",
        "\n",
        "    # Разделение между вычислительными узлами происходит по строкам первой матрицы\n",
        "    split_size = int(np.ceil(I / maps))\n",
        "    for i in range(0, I, split_size):\n",
        "        yield RECORDREADER(range(i, i + split_size))\n",
        "\n",
        "\n",
        "# Возвращает произведения соответствующих элементов из обоих матриц, группируя их по индексу в результирующей матрице\n",
        "def MAP(element1, element2):\n",
        "    (i, j), v1 = element1\n",
        "    (j, k), v2 = element2\n",
        "\n",
        "    yield ((i, k), v1 * v2)\n",
        "\n",
        "\n",
        "# Суммирует полученные произведения\n",
        "def REDUCE(key, values):\n",
        "    (i, k) = key\n",
        "\n",
        "    # solution code that yield(k3,v3) pairs\n",
        "    k3 = (i, k)\n",
        "\n",
        "    v3 = 0\n",
        "    for j in range(J):\n",
        "        v3 += values[j]\n",
        "\n",
        "    yield (k3, v3)\n",
        "\n",
        "\n",
        "# try to set COMBINER=REDUCER and look at the number of values sent over the network\n",
        "partitioned_output = MapReduceDistributed(INPUTFORMAT, MAP, REDUCE, COMBINER=None)\n",
        "partitioned_output = [\n",
        "    (partition_id, list(partition)) for (partition_id, partition) in partitioned_output\n",
        "]\n",
        "\n",
        "# Соединение полученных произведений с разных вычислительных узлов\n",
        "solution = []\n",
        "for output_part in partitioned_output:\n",
        "    for element in output_part[1]:\n",
        "        solution += [element]\n",
        "\n",
        "print(asmatrix(solution))\n",
        "np.allclose(reference_solution, asmatrix(solution))  # should return true"
      ]
    },
    {
      "cell_type": "markdown",
      "metadata": {
        "id": "ZuSA2P9Db6UM"
      },
      "source": [
        "Обобщите предыдущее решение на случай, когда каждая матрица генерируется несколькими RECORDREADER-ами, и проверьте его работоспособность. Будет ли работать решение, если RECORDREADER-ы будут генерировать случайное подмножество элементов матрицы?"
      ]
    },
    {
      "cell_type": "markdown",
      "metadata": {},
      "source": [
        "Решение будет работать, так как каждая пара элементов, генерируемая RECORDREADER, идентифицируется по ее индексам"
      ]
    }
  ],
  "metadata": {
    "colab": {
      "provenance": []
    },
    "kernelspec": {
      "display_name": "Python 3",
      "name": "python3"
    },
    "language_info": {
      "codemirror_mode": {
        "name": "ipython",
        "version": 3
      },
      "file_extension": ".py",
      "mimetype": "text/x-python",
      "name": "python",
      "nbconvert_exporter": "python",
      "pygments_lexer": "ipython3",
      "version": "3.11.2"
    }
  },
  "nbformat": 4,
  "nbformat_minor": 0
}
